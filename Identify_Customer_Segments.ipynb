{
 "cells": [
  {
   "cell_type": "markdown",
   "metadata": {},
   "source": [
    "# Project: Identify Customer Segments\n",
    "\n",
    "In this project, you will apply unsupervised learning techniques to identify segments of the population that form the core customer base for a mail-order sales company in Germany. These segments can then be used to direct marketing campaigns towards audiences that will have the highest expected rate of returns. The data that you will use has been provided by our partners at Bertelsmann Arvato Analytics, and represents a real-life data science task.\n",
    "\n",
    "This notebook will help you complete this task by providing a framework within which you will perform your analysis steps. In each step of the project, you will see some text describing the subtask that you will perform, followed by one or more code cells for you to complete your work. **Feel free to add additional code and markdown cells as you go along so that you can explore everything in precise chunks.** The code cells provided in the base template will outline only the major tasks, and will usually not be enough to cover all of the minor tasks that comprise it.\n",
    "\n",
    "It should be noted that while there will be precise guidelines on how you should handle certain tasks in the project, there will also be places where an exact specification is not provided. **There will be times in the project where you will need to make and justify your own decisions on how to treat the data.** These are places where there may not be only one way to handle the data. In real-life tasks, there may be many valid ways to approach an analysis task. One of the most important things you can do is clearly document your approach so that other scientists can understand the decisions you've made.\n",
    "\n",
    "At the end of most sections, there will be a Markdown cell labeled **Discussion**. In these cells, you will report your findings for the completed section, as well as document the decisions that you made in your approach to each subtask. **Your project will be evaluated not just on the code used to complete the tasks outlined, but also your communication about your observations and conclusions at each stage.**"
   ]
  },
  {
   "cell_type": "code",
   "execution_count": 1,
   "metadata": {},
   "outputs": [],
   "source": [
    "# import libraries here; add more as necessary\n",
    "\n",
    "import numpy as np\n",
    "import pandas as pd\n",
    "import matplotlib.pyplot as plt\n",
    "import seaborn as sns\n",
    "\n",
    "from sklearn.preprocessing import OneHotEncoder, LabelEncoder, StandardScaler, Imputer\n",
    "from sklearn.cluster import KMeans\n",
    "from sklearn.decomposition import PCA\n",
    "\n",
    "\n",
    "# magic word for producing visualizations in notebook\n",
    "%matplotlib inline"
   ]
  },
  {
   "cell_type": "markdown",
   "metadata": {},
   "source": [
    "### Step 0: Load the Data\n",
    "\n",
    "There are four files associated with this project (not including this one):\n",
    "\n",
    "- `Udacity_AZDIAS_Subset.csv`: Demographics data for the general population of Germany; 891211 persons (rows) x 85 features (columns).\n",
    "- `Udacity_CUSTOMERS_Subset.csv`: Demographics data for customers of a mail-order company; 191652 persons (rows) x 85 features (columns).\n",
    "- `Data_Dictionary.md`: Detailed information file about the features in the provided datasets.\n",
    "- `AZDIAS_Feature_Summary.csv`: Summary of feature attributes for demographics data; 85 features (rows) x 4 columns\n",
    "\n",
    "Each row of the demographics files represents a single person, but also includes information outside of individuals, including information about their household, building, and neighborhood. You will use this information to cluster the general population into groups with similar demographic properties. Then, you will see how the people in the customers dataset fit into those created clusters. The hope here is that certain clusters are over-represented in the customers data, as compared to the general population; those over-represented clusters will be assumed to be part of the core userbase. This information can then be used for further applications, such as targeting for a marketing campaign.\n",
    "\n",
    "To start off with, load in the demographics data for the general population into a pandas DataFrame, and do the same for the feature attributes summary. Note for all of the `.csv` data files in this project: they're semicolon (`;`) delimited, so you'll need an additional argument in your [`read_csv()`](https://pandas.pydata.org/pandas-docs/stable/generated/pandas.read_csv.html) call to read in the data properly. Also, considering the size of the main dataset, it may take some time for it to load completely.\n",
    "\n",
    "Once the dataset is loaded, it's recommended that you take a little bit of time just browsing the general structure of the dataset and feature summary file. You'll be getting deep into the innards of the cleaning in the first major step of the project, so gaining some general familiarity can help you get your bearings."
   ]
  },
  {
   "cell_type": "code",
   "execution_count": 4,
   "metadata": {},
   "outputs": [],
   "source": [
    "\n",
    "# Load in the general demographics data.\n",
    "azdias = pd.read_csv('Udacity_AZDIAS_Subset.csv', delimiter=';')\n",
    "azdias_copy = azdias.copy()\n",
    "\n",
    "# Load in the feature summary file.\n",
    "feat_info = pd.read_csv('AZDIAS_Feature_Summary.csv', delimiter=';')"
   ]
  },
  {
   "cell_type": "code",
   "execution_count": 7,
   "metadata": {},
   "outputs": [
    {
     "data": {
      "text/html": [
       "<div>\n",
       "<style scoped>\n",
       "    .dataframe tbody tr th:only-of-type {\n",
       "        vertical-align: middle;\n",
       "    }\n",
       "\n",
       "    .dataframe tbody tr th {\n",
       "        vertical-align: top;\n",
       "    }\n",
       "\n",
       "    .dataframe thead th {\n",
       "        text-align: right;\n",
       "    }\n",
       "</style>\n",
       "<table border=\"1\" class=\"dataframe\">\n",
       "  <thead>\n",
       "    <tr style=\"text-align: right;\">\n",
       "      <th></th>\n",
       "      <th>AGER_TYP</th>\n",
       "      <th>ALTERSKATEGORIE_GROB</th>\n",
       "      <th>ANREDE_KZ</th>\n",
       "      <th>CJT_GESAMTTYP</th>\n",
       "      <th>FINANZ_MINIMALIST</th>\n",
       "      <th>FINANZ_SPARER</th>\n",
       "      <th>FINANZ_VORSORGER</th>\n",
       "      <th>FINANZ_ANLEGER</th>\n",
       "      <th>FINANZ_UNAUFFAELLIGER</th>\n",
       "      <th>FINANZ_HAUSBAUER</th>\n",
       "      <th>...</th>\n",
       "      <th>PLZ8_ANTG1</th>\n",
       "      <th>PLZ8_ANTG2</th>\n",
       "      <th>PLZ8_ANTG3</th>\n",
       "      <th>PLZ8_ANTG4</th>\n",
       "      <th>PLZ8_BAUMAX</th>\n",
       "      <th>PLZ8_HHZ</th>\n",
       "      <th>PLZ8_GBZ</th>\n",
       "      <th>ARBEIT</th>\n",
       "      <th>ORTSGR_KLS9</th>\n",
       "      <th>RELAT_AB</th>\n",
       "    </tr>\n",
       "  </thead>\n",
       "  <tbody>\n",
       "    <tr>\n",
       "      <th>0</th>\n",
       "      <td>-1</td>\n",
       "      <td>2</td>\n",
       "      <td>1</td>\n",
       "      <td>2.0</td>\n",
       "      <td>3</td>\n",
       "      <td>4</td>\n",
       "      <td>3</td>\n",
       "      <td>5</td>\n",
       "      <td>5</td>\n",
       "      <td>3</td>\n",
       "      <td>...</td>\n",
       "      <td>NaN</td>\n",
       "      <td>NaN</td>\n",
       "      <td>NaN</td>\n",
       "      <td>NaN</td>\n",
       "      <td>NaN</td>\n",
       "      <td>NaN</td>\n",
       "      <td>NaN</td>\n",
       "      <td>NaN</td>\n",
       "      <td>NaN</td>\n",
       "      <td>NaN</td>\n",
       "    </tr>\n",
       "    <tr>\n",
       "      <th>1</th>\n",
       "      <td>-1</td>\n",
       "      <td>1</td>\n",
       "      <td>2</td>\n",
       "      <td>5.0</td>\n",
       "      <td>1</td>\n",
       "      <td>5</td>\n",
       "      <td>2</td>\n",
       "      <td>5</td>\n",
       "      <td>4</td>\n",
       "      <td>5</td>\n",
       "      <td>...</td>\n",
       "      <td>2.0</td>\n",
       "      <td>3.0</td>\n",
       "      <td>2.0</td>\n",
       "      <td>1.0</td>\n",
       "      <td>1.0</td>\n",
       "      <td>5.0</td>\n",
       "      <td>4.0</td>\n",
       "      <td>3.0</td>\n",
       "      <td>5.0</td>\n",
       "      <td>4.0</td>\n",
       "    </tr>\n",
       "    <tr>\n",
       "      <th>2</th>\n",
       "      <td>-1</td>\n",
       "      <td>3</td>\n",
       "      <td>2</td>\n",
       "      <td>3.0</td>\n",
       "      <td>1</td>\n",
       "      <td>4</td>\n",
       "      <td>1</td>\n",
       "      <td>2</td>\n",
       "      <td>3</td>\n",
       "      <td>5</td>\n",
       "      <td>...</td>\n",
       "      <td>3.0</td>\n",
       "      <td>3.0</td>\n",
       "      <td>1.0</td>\n",
       "      <td>0.0</td>\n",
       "      <td>1.0</td>\n",
       "      <td>4.0</td>\n",
       "      <td>4.0</td>\n",
       "      <td>3.0</td>\n",
       "      <td>5.0</td>\n",
       "      <td>2.0</td>\n",
       "    </tr>\n",
       "    <tr>\n",
       "      <th>3</th>\n",
       "      <td>2</td>\n",
       "      <td>4</td>\n",
       "      <td>2</td>\n",
       "      <td>2.0</td>\n",
       "      <td>4</td>\n",
       "      <td>2</td>\n",
       "      <td>5</td>\n",
       "      <td>2</td>\n",
       "      <td>1</td>\n",
       "      <td>2</td>\n",
       "      <td>...</td>\n",
       "      <td>2.0</td>\n",
       "      <td>2.0</td>\n",
       "      <td>2.0</td>\n",
       "      <td>0.0</td>\n",
       "      <td>1.0</td>\n",
       "      <td>3.0</td>\n",
       "      <td>4.0</td>\n",
       "      <td>2.0</td>\n",
       "      <td>3.0</td>\n",
       "      <td>3.0</td>\n",
       "    </tr>\n",
       "    <tr>\n",
       "      <th>4</th>\n",
       "      <td>-1</td>\n",
       "      <td>3</td>\n",
       "      <td>1</td>\n",
       "      <td>5.0</td>\n",
       "      <td>4</td>\n",
       "      <td>3</td>\n",
       "      <td>4</td>\n",
       "      <td>1</td>\n",
       "      <td>3</td>\n",
       "      <td>2</td>\n",
       "      <td>...</td>\n",
       "      <td>2.0</td>\n",
       "      <td>4.0</td>\n",
       "      <td>2.0</td>\n",
       "      <td>1.0</td>\n",
       "      <td>2.0</td>\n",
       "      <td>3.0</td>\n",
       "      <td>3.0</td>\n",
       "      <td>4.0</td>\n",
       "      <td>6.0</td>\n",
       "      <td>5.0</td>\n",
       "    </tr>\n",
       "  </tbody>\n",
       "</table>\n",
       "<p>5 rows × 85 columns</p>\n",
       "</div>"
      ],
      "text/plain": [
       "   AGER_TYP  ALTERSKATEGORIE_GROB  ANREDE_KZ  CJT_GESAMTTYP  \\\n",
       "0        -1                     2          1            2.0   \n",
       "1        -1                     1          2            5.0   \n",
       "2        -1                     3          2            3.0   \n",
       "3         2                     4          2            2.0   \n",
       "4        -1                     3          1            5.0   \n",
       "\n",
       "   FINANZ_MINIMALIST  FINANZ_SPARER  FINANZ_VORSORGER  FINANZ_ANLEGER  \\\n",
       "0                  3              4                 3               5   \n",
       "1                  1              5                 2               5   \n",
       "2                  1              4                 1               2   \n",
       "3                  4              2                 5               2   \n",
       "4                  4              3                 4               1   \n",
       "\n",
       "   FINANZ_UNAUFFAELLIGER  FINANZ_HAUSBAUER    ...     PLZ8_ANTG1  PLZ8_ANTG2  \\\n",
       "0                      5                 3    ...            NaN         NaN   \n",
       "1                      4                 5    ...            2.0         3.0   \n",
       "2                      3                 5    ...            3.0         3.0   \n",
       "3                      1                 2    ...            2.0         2.0   \n",
       "4                      3                 2    ...            2.0         4.0   \n",
       "\n",
       "   PLZ8_ANTG3  PLZ8_ANTG4  PLZ8_BAUMAX  PLZ8_HHZ  PLZ8_GBZ  ARBEIT  \\\n",
       "0         NaN         NaN          NaN       NaN       NaN     NaN   \n",
       "1         2.0         1.0          1.0       5.0       4.0     3.0   \n",
       "2         1.0         0.0          1.0       4.0       4.0     3.0   \n",
       "3         2.0         0.0          1.0       3.0       4.0     2.0   \n",
       "4         2.0         1.0          2.0       3.0       3.0     4.0   \n",
       "\n",
       "   ORTSGR_KLS9  RELAT_AB  \n",
       "0          NaN       NaN  \n",
       "1          5.0       4.0  \n",
       "2          5.0       2.0  \n",
       "3          3.0       3.0  \n",
       "4          6.0       5.0  \n",
       "\n",
       "[5 rows x 85 columns]"
      ]
     },
     "execution_count": 7,
     "metadata": {},
     "output_type": "execute_result"
    }
   ],
   "source": [
    "azdias_copy.head()"
   ]
  },
  {
   "cell_type": "code",
   "execution_count": 8,
   "metadata": {},
   "outputs": [
    {
     "data": {
      "text/html": [
       "<div>\n",
       "<style scoped>\n",
       "    .dataframe tbody tr th:only-of-type {\n",
       "        vertical-align: middle;\n",
       "    }\n",
       "\n",
       "    .dataframe tbody tr th {\n",
       "        vertical-align: top;\n",
       "    }\n",
       "\n",
       "    .dataframe thead th {\n",
       "        text-align: right;\n",
       "    }\n",
       "</style>\n",
       "<table border=\"1\" class=\"dataframe\">\n",
       "  <thead>\n",
       "    <tr style=\"text-align: right;\">\n",
       "      <th></th>\n",
       "      <th>AGER_TYP</th>\n",
       "      <th>ALTERSKATEGORIE_GROB</th>\n",
       "      <th>ANREDE_KZ</th>\n",
       "      <th>CJT_GESAMTTYP</th>\n",
       "      <th>FINANZ_MINIMALIST</th>\n",
       "      <th>FINANZ_SPARER</th>\n",
       "      <th>FINANZ_VORSORGER</th>\n",
       "      <th>FINANZ_ANLEGER</th>\n",
       "      <th>FINANZ_UNAUFFAELLIGER</th>\n",
       "      <th>FINANZ_HAUSBAUER</th>\n",
       "      <th>...</th>\n",
       "      <th>PLZ8_ANTG1</th>\n",
       "      <th>PLZ8_ANTG2</th>\n",
       "      <th>PLZ8_ANTG3</th>\n",
       "      <th>PLZ8_ANTG4</th>\n",
       "      <th>PLZ8_BAUMAX</th>\n",
       "      <th>PLZ8_HHZ</th>\n",
       "      <th>PLZ8_GBZ</th>\n",
       "      <th>ARBEIT</th>\n",
       "      <th>ORTSGR_KLS9</th>\n",
       "      <th>RELAT_AB</th>\n",
       "    </tr>\n",
       "  </thead>\n",
       "  <tbody>\n",
       "    <tr>\n",
       "      <th>count</th>\n",
       "      <td>891221.000000</td>\n",
       "      <td>891221.000000</td>\n",
       "      <td>891221.000000</td>\n",
       "      <td>886367.000000</td>\n",
       "      <td>891221.000000</td>\n",
       "      <td>891221.000000</td>\n",
       "      <td>891221.000000</td>\n",
       "      <td>891221.000000</td>\n",
       "      <td>891221.000000</td>\n",
       "      <td>891221.000000</td>\n",
       "      <td>...</td>\n",
       "      <td>774706.000000</td>\n",
       "      <td>774706.000000</td>\n",
       "      <td>774706.000000</td>\n",
       "      <td>774706.000000</td>\n",
       "      <td>774706.000000</td>\n",
       "      <td>774706.000000</td>\n",
       "      <td>774706.000000</td>\n",
       "      <td>794005.000000</td>\n",
       "      <td>794005.000000</td>\n",
       "      <td>794005.00000</td>\n",
       "    </tr>\n",
       "    <tr>\n",
       "      <th>mean</th>\n",
       "      <td>-0.358435</td>\n",
       "      <td>2.777398</td>\n",
       "      <td>1.522098</td>\n",
       "      <td>3.632838</td>\n",
       "      <td>3.074528</td>\n",
       "      <td>2.821039</td>\n",
       "      <td>3.401106</td>\n",
       "      <td>3.033328</td>\n",
       "      <td>2.874167</td>\n",
       "      <td>3.075121</td>\n",
       "      <td>...</td>\n",
       "      <td>2.253330</td>\n",
       "      <td>2.801858</td>\n",
       "      <td>1.595426</td>\n",
       "      <td>0.699166</td>\n",
       "      <td>1.943913</td>\n",
       "      <td>3.612821</td>\n",
       "      <td>3.381087</td>\n",
       "      <td>3.167854</td>\n",
       "      <td>5.293002</td>\n",
       "      <td>3.07222</td>\n",
       "    </tr>\n",
       "    <tr>\n",
       "      <th>std</th>\n",
       "      <td>1.198724</td>\n",
       "      <td>1.068775</td>\n",
       "      <td>0.499512</td>\n",
       "      <td>1.595021</td>\n",
       "      <td>1.321055</td>\n",
       "      <td>1.464749</td>\n",
       "      <td>1.322134</td>\n",
       "      <td>1.529603</td>\n",
       "      <td>1.486731</td>\n",
       "      <td>1.353248</td>\n",
       "      <td>...</td>\n",
       "      <td>0.972008</td>\n",
       "      <td>0.920309</td>\n",
       "      <td>0.986736</td>\n",
       "      <td>0.727137</td>\n",
       "      <td>1.459654</td>\n",
       "      <td>0.973967</td>\n",
       "      <td>1.111598</td>\n",
       "      <td>1.002376</td>\n",
       "      <td>2.303739</td>\n",
       "      <td>1.36298</td>\n",
       "    </tr>\n",
       "    <tr>\n",
       "      <th>min</th>\n",
       "      <td>-1.000000</td>\n",
       "      <td>1.000000</td>\n",
       "      <td>1.000000</td>\n",
       "      <td>1.000000</td>\n",
       "      <td>1.000000</td>\n",
       "      <td>1.000000</td>\n",
       "      <td>1.000000</td>\n",
       "      <td>1.000000</td>\n",
       "      <td>1.000000</td>\n",
       "      <td>1.000000</td>\n",
       "      <td>...</td>\n",
       "      <td>0.000000</td>\n",
       "      <td>0.000000</td>\n",
       "      <td>0.000000</td>\n",
       "      <td>0.000000</td>\n",
       "      <td>1.000000</td>\n",
       "      <td>1.000000</td>\n",
       "      <td>1.000000</td>\n",
       "      <td>1.000000</td>\n",
       "      <td>0.000000</td>\n",
       "      <td>1.00000</td>\n",
       "    </tr>\n",
       "    <tr>\n",
       "      <th>25%</th>\n",
       "      <td>-1.000000</td>\n",
       "      <td>2.000000</td>\n",
       "      <td>1.000000</td>\n",
       "      <td>2.000000</td>\n",
       "      <td>2.000000</td>\n",
       "      <td>1.000000</td>\n",
       "      <td>3.000000</td>\n",
       "      <td>2.000000</td>\n",
       "      <td>2.000000</td>\n",
       "      <td>2.000000</td>\n",
       "      <td>...</td>\n",
       "      <td>1.000000</td>\n",
       "      <td>2.000000</td>\n",
       "      <td>1.000000</td>\n",
       "      <td>0.000000</td>\n",
       "      <td>1.000000</td>\n",
       "      <td>3.000000</td>\n",
       "      <td>3.000000</td>\n",
       "      <td>3.000000</td>\n",
       "      <td>4.000000</td>\n",
       "      <td>2.00000</td>\n",
       "    </tr>\n",
       "    <tr>\n",
       "      <th>50%</th>\n",
       "      <td>-1.000000</td>\n",
       "      <td>3.000000</td>\n",
       "      <td>2.000000</td>\n",
       "      <td>4.000000</td>\n",
       "      <td>3.000000</td>\n",
       "      <td>3.000000</td>\n",
       "      <td>3.000000</td>\n",
       "      <td>3.000000</td>\n",
       "      <td>3.000000</td>\n",
       "      <td>3.000000</td>\n",
       "      <td>...</td>\n",
       "      <td>2.000000</td>\n",
       "      <td>3.000000</td>\n",
       "      <td>2.000000</td>\n",
       "      <td>1.000000</td>\n",
       "      <td>1.000000</td>\n",
       "      <td>4.000000</td>\n",
       "      <td>3.000000</td>\n",
       "      <td>3.000000</td>\n",
       "      <td>5.000000</td>\n",
       "      <td>3.00000</td>\n",
       "    </tr>\n",
       "    <tr>\n",
       "      <th>75%</th>\n",
       "      <td>-1.000000</td>\n",
       "      <td>4.000000</td>\n",
       "      <td>2.000000</td>\n",
       "      <td>5.000000</td>\n",
       "      <td>4.000000</td>\n",
       "      <td>4.000000</td>\n",
       "      <td>5.000000</td>\n",
       "      <td>5.000000</td>\n",
       "      <td>4.000000</td>\n",
       "      <td>4.000000</td>\n",
       "      <td>...</td>\n",
       "      <td>3.000000</td>\n",
       "      <td>3.000000</td>\n",
       "      <td>2.000000</td>\n",
       "      <td>1.000000</td>\n",
       "      <td>3.000000</td>\n",
       "      <td>4.000000</td>\n",
       "      <td>4.000000</td>\n",
       "      <td>4.000000</td>\n",
       "      <td>7.000000</td>\n",
       "      <td>4.00000</td>\n",
       "    </tr>\n",
       "    <tr>\n",
       "      <th>max</th>\n",
       "      <td>3.000000</td>\n",
       "      <td>9.000000</td>\n",
       "      <td>2.000000</td>\n",
       "      <td>6.000000</td>\n",
       "      <td>5.000000</td>\n",
       "      <td>5.000000</td>\n",
       "      <td>5.000000</td>\n",
       "      <td>5.000000</td>\n",
       "      <td>5.000000</td>\n",
       "      <td>5.000000</td>\n",
       "      <td>...</td>\n",
       "      <td>4.000000</td>\n",
       "      <td>4.000000</td>\n",
       "      <td>3.000000</td>\n",
       "      <td>2.000000</td>\n",
       "      <td>5.000000</td>\n",
       "      <td>5.000000</td>\n",
       "      <td>5.000000</td>\n",
       "      <td>9.000000</td>\n",
       "      <td>9.000000</td>\n",
       "      <td>9.00000</td>\n",
       "    </tr>\n",
       "  </tbody>\n",
       "</table>\n",
       "<p>8 rows × 81 columns</p>\n",
       "</div>"
      ],
      "text/plain": [
       "            AGER_TYP  ALTERSKATEGORIE_GROB      ANREDE_KZ  CJT_GESAMTTYP  \\\n",
       "count  891221.000000         891221.000000  891221.000000  886367.000000   \n",
       "mean       -0.358435              2.777398       1.522098       3.632838   \n",
       "std         1.198724              1.068775       0.499512       1.595021   \n",
       "min        -1.000000              1.000000       1.000000       1.000000   \n",
       "25%        -1.000000              2.000000       1.000000       2.000000   \n",
       "50%        -1.000000              3.000000       2.000000       4.000000   \n",
       "75%        -1.000000              4.000000       2.000000       5.000000   \n",
       "max         3.000000              9.000000       2.000000       6.000000   \n",
       "\n",
       "       FINANZ_MINIMALIST  FINANZ_SPARER  FINANZ_VORSORGER  FINANZ_ANLEGER  \\\n",
       "count      891221.000000  891221.000000     891221.000000   891221.000000   \n",
       "mean            3.074528       2.821039          3.401106        3.033328   \n",
       "std             1.321055       1.464749          1.322134        1.529603   \n",
       "min             1.000000       1.000000          1.000000        1.000000   \n",
       "25%             2.000000       1.000000          3.000000        2.000000   \n",
       "50%             3.000000       3.000000          3.000000        3.000000   \n",
       "75%             4.000000       4.000000          5.000000        5.000000   \n",
       "max             5.000000       5.000000          5.000000        5.000000   \n",
       "\n",
       "       FINANZ_UNAUFFAELLIGER  FINANZ_HAUSBAUER      ...          PLZ8_ANTG1  \\\n",
       "count          891221.000000     891221.000000      ...       774706.000000   \n",
       "mean                2.874167          3.075121      ...            2.253330   \n",
       "std                 1.486731          1.353248      ...            0.972008   \n",
       "min                 1.000000          1.000000      ...            0.000000   \n",
       "25%                 2.000000          2.000000      ...            1.000000   \n",
       "50%                 3.000000          3.000000      ...            2.000000   \n",
       "75%                 4.000000          4.000000      ...            3.000000   \n",
       "max                 5.000000          5.000000      ...            4.000000   \n",
       "\n",
       "          PLZ8_ANTG2     PLZ8_ANTG3     PLZ8_ANTG4    PLZ8_BAUMAX  \\\n",
       "count  774706.000000  774706.000000  774706.000000  774706.000000   \n",
       "mean        2.801858       1.595426       0.699166       1.943913   \n",
       "std         0.920309       0.986736       0.727137       1.459654   \n",
       "min         0.000000       0.000000       0.000000       1.000000   \n",
       "25%         2.000000       1.000000       0.000000       1.000000   \n",
       "50%         3.000000       2.000000       1.000000       1.000000   \n",
       "75%         3.000000       2.000000       1.000000       3.000000   \n",
       "max         4.000000       3.000000       2.000000       5.000000   \n",
       "\n",
       "            PLZ8_HHZ       PLZ8_GBZ         ARBEIT    ORTSGR_KLS9  \\\n",
       "count  774706.000000  774706.000000  794005.000000  794005.000000   \n",
       "mean        3.612821       3.381087       3.167854       5.293002   \n",
       "std         0.973967       1.111598       1.002376       2.303739   \n",
       "min         1.000000       1.000000       1.000000       0.000000   \n",
       "25%         3.000000       3.000000       3.000000       4.000000   \n",
       "50%         4.000000       3.000000       3.000000       5.000000   \n",
       "75%         4.000000       4.000000       4.000000       7.000000   \n",
       "max         5.000000       5.000000       9.000000       9.000000   \n",
       "\n",
       "           RELAT_AB  \n",
       "count  794005.00000  \n",
       "mean        3.07222  \n",
       "std         1.36298  \n",
       "min         1.00000  \n",
       "25%         2.00000  \n",
       "50%         3.00000  \n",
       "75%         4.00000  \n",
       "max         9.00000  \n",
       "\n",
       "[8 rows x 81 columns]"
      ]
     },
     "execution_count": 8,
     "metadata": {},
     "output_type": "execute_result"
    }
   ],
   "source": [
    "azdias_copy.describe()"
   ]
  },
  {
   "cell_type": "code",
   "execution_count": 9,
   "metadata": {},
   "outputs": [
    {
     "data": {
      "text/html": [
       "<div>\n",
       "<style scoped>\n",
       "    .dataframe tbody tr th:only-of-type {\n",
       "        vertical-align: middle;\n",
       "    }\n",
       "\n",
       "    .dataframe tbody tr th {\n",
       "        vertical-align: top;\n",
       "    }\n",
       "\n",
       "    .dataframe thead th {\n",
       "        text-align: right;\n",
       "    }\n",
       "</style>\n",
       "<table border=\"1\" class=\"dataframe\">\n",
       "  <thead>\n",
       "    <tr style=\"text-align: right;\">\n",
       "      <th></th>\n",
       "      <th>attribute</th>\n",
       "      <th>information_level</th>\n",
       "      <th>type</th>\n",
       "      <th>missing_or_unknown</th>\n",
       "    </tr>\n",
       "  </thead>\n",
       "  <tbody>\n",
       "    <tr>\n",
       "      <th>0</th>\n",
       "      <td>AGER_TYP</td>\n",
       "      <td>person</td>\n",
       "      <td>categorical</td>\n",
       "      <td>[-1,0]</td>\n",
       "    </tr>\n",
       "    <tr>\n",
       "      <th>1</th>\n",
       "      <td>ALTERSKATEGORIE_GROB</td>\n",
       "      <td>person</td>\n",
       "      <td>ordinal</td>\n",
       "      <td>[-1,0,9]</td>\n",
       "    </tr>\n",
       "    <tr>\n",
       "      <th>2</th>\n",
       "      <td>ANREDE_KZ</td>\n",
       "      <td>person</td>\n",
       "      <td>categorical</td>\n",
       "      <td>[-1,0]</td>\n",
       "    </tr>\n",
       "    <tr>\n",
       "      <th>3</th>\n",
       "      <td>CJT_GESAMTTYP</td>\n",
       "      <td>person</td>\n",
       "      <td>categorical</td>\n",
       "      <td>[0]</td>\n",
       "    </tr>\n",
       "    <tr>\n",
       "      <th>4</th>\n",
       "      <td>FINANZ_MINIMALIST</td>\n",
       "      <td>person</td>\n",
       "      <td>ordinal</td>\n",
       "      <td>[-1]</td>\n",
       "    </tr>\n",
       "  </tbody>\n",
       "</table>\n",
       "</div>"
      ],
      "text/plain": [
       "              attribute information_level         type missing_or_unknown\n",
       "0              AGER_TYP            person  categorical             [-1,0]\n",
       "1  ALTERSKATEGORIE_GROB            person      ordinal           [-1,0,9]\n",
       "2             ANREDE_KZ            person  categorical             [-1,0]\n",
       "3         CJT_GESAMTTYP            person  categorical                [0]\n",
       "4     FINANZ_MINIMALIST            person      ordinal               [-1]"
      ]
     },
     "execution_count": 9,
     "metadata": {},
     "output_type": "execute_result"
    }
   ],
   "source": [
    "feat_info.head()"
   ]
  },
  {
   "cell_type": "code",
   "execution_count": 82,
   "metadata": {},
   "outputs": [
    {
     "name": "stdout",
     "output_type": "stream",
     "text": [
      "These columns are of type object: ['OST_WEST_KZ', 'CAMEO_DEUG_2015', 'CAMEO_DEU_2015', 'CAMEO_INTL_2015'] and they may need label encoding.\n"
     ]
    }
   ],
   "source": [
    "# columns that are type object\n",
    "\n",
    "object_types = list(azdias_copy.select_dtypes(include=['object']).columns)\n",
    "print(f'These columns are of type object: {object_types} and they may need label encoding.')\n"
   ]
  },
  {
   "cell_type": "markdown",
   "metadata": {},
   "source": [
    "> **Tip**: Add additional cells to keep everything in reasonably-sized chunks! Keyboard shortcut `esc --> a` (press escape to enter command mode, then press the 'A' key) adds a new cell before the active cell, and `esc --> b` adds a new cell after the active cell. If you need to convert an active cell to a markdown cell, use `esc --> m` and to convert to a code cell, use `esc --> y`. \n",
    "\n",
    "## Step 1: Preprocessing\n",
    "\n",
    "### Step 1.1: Assess Missing Data\n",
    "\n",
    "The feature summary file contains a summary of properties for each demographics data column. You will use this file to help you make cleaning decisions during this stage of the project. First of all, you should assess the demographics data in terms of missing data. Pay attention to the following points as you perform your analysis, and take notes on what you observe. Make sure that you fill in the **Discussion** cell with your findings and decisions at the end of each step that has one!\n",
    "\n",
    "#### Step 1.1.1: Convert Missing Value Codes to NaNs\n",
    "The fourth column of the feature attributes summary (loaded in above as `feat_info`) documents the codes from the data dictionary that indicate missing or unknown data. While the file encodes this as a list (e.g. `[-1,0]`), this will get read in as a string object. You'll need to do a little bit of parsing to make use of it to identify and clean the data. Convert data that matches a 'missing' or 'unknown' value code into a numpy NaN value. You might want to see how much data takes on a 'missing' or 'unknown' code, and how much data is naturally missing, as a point of interest.\n",
    "\n",
    "**As one more reminder, you are encouraged to add additional cells to break up your analysis into manageable chunks.**"
   ]
  },
  {
   "cell_type": "code",
   "execution_count": 10,
   "metadata": {},
   "outputs": [],
   "source": [
    "# Identify missing or unknown data values and convert them to NaNs."
   ]
  },
  {
   "cell_type": "code",
   "execution_count": 11,
   "metadata": {},
   "outputs": [],
   "source": [
    "def string_to_list(string):\n",
    "    \"\"\"\n",
    "    convert string into a list of integers and strings\n",
    "    \"\"\"\n",
    "    list_of_strings = (string.replace('[', '').replace(']', '').split(','))\n",
    "    for i in range(len(list_of_strings)):\n",
    "        if list_of_strings[i] in ['-1', '0', '9']:\n",
    "            list_of_strings[i] = int(list_of_strings[i])\n",
    "    return list_of_strings"
   ]
  },
  {
   "cell_type": "code",
   "execution_count": 12,
   "metadata": {},
   "outputs": [],
   "source": [
    "def convert_values_to_nan(df, features_df):\n",
    "    \"\"\"\n",
    "    Convert 'missing_or_unknown' values as NaN\n",
    "    \"\"\"\n",
    "    # Convert features_df['missing_or_unknown'] from a string to a list\n",
    "    features_df['nulls'] = features_df['missing_or_unknown'].map(string_to_list)\n",
    "    \n",
    "    # Convert null values in df to np.nan\n",
    "    for col in list(df.columns):\n",
    "        list_of_nulls = list(features_df.loc[features_df.attribute==str(col)]['nulls'])[0]\n",
    "        df.loc[df[col].isin(list_of_nulls),col] = np.nan\n",
    "        \n",
    "    return df"
   ]
  },
  {
   "cell_type": "code",
   "execution_count": 13,
   "metadata": {},
   "outputs": [],
   "source": [
    "\n",
    "azdias_missing = azdias.copy()\n",
    "azdias_missing = convert_values_to_nan(azdias_missing, feat_info)"
   ]
  },
  {
   "cell_type": "markdown",
   "metadata": {},
   "source": [
    "#### Step 1.1.2: Assess Missing Data in Each Column\n",
    "\n",
    "How much missing data is present in each column? There are a few columns that are outliers in terms of the proportion of values that are missing. You will want to use matplotlib's [`hist()`](https://matplotlib.org/api/_as_gen/matplotlib.pyplot.hist.html) function to visualize the distribution of missing value counts to find these columns. Identify and document these columns. While some of these columns might have justifications for keeping or re-encoding the data, for this project you should just remove them from the dataframe. (Feel free to make remarks about these outlier columns in the discussion, however!)\n",
    "\n",
    "For the remaining features, are there any patterns in which columns have, or share, missing data?"
   ]
  },
  {
   "cell_type": "code",
   "execution_count": 83,
   "metadata": {},
   "outputs": [],
   "source": [
    "# Perform an assessment of how much missing data there is in each column of the\n",
    "# dataset.\n",
    "\n",
    "def calc_missing_percent(df):\n",
    "    \"\"\"\n",
    "    Output: series with percentage of null values for each column\n",
    "    \"\"\"\n",
    "    null_perc = df.isnull().mean()*100\n",
    "    null_perc = null_perc.sort_values(ascending=False)\n",
    "    return null_perc\n",
    "\n",
    "\n",
    "missing_percent = calc_missing_percent(azdias_missing)"
   ]
  },
  {
   "cell_type": "code",
   "execution_count": 15,
   "metadata": {},
   "outputs": [],
   "source": [
    "# Investigate patterns in the amount of missing data in each column."
   ]
  },
  {
   "cell_type": "markdown",
   "metadata": {},
   "source": [
    "Most of the columns have a percentage of null values below 20%.  Six columns have proportions greater than 20%, sometimes much greater."
   ]
  },
  {
   "cell_type": "code",
   "execution_count": 84,
   "metadata": {},
   "outputs": [
    {
     "data": {
      "image/png": "[encoded data removed]",
      "text/plain": [
       "<matplotlib.figure.Figure at 0x7efea08c89e8>"
      ]
     },
     "metadata": {
      "needs_background": "light"
     },
     "output_type": "display_data"
    }
   ],
   "source": [
    "# Investigate patterns in the amount of missing data in each column.\n",
    "\n",
    "plt.hist(missing_percent, bins = 20)\n",
    "plt.title('Distribution of Percentage of Missing Data')\n",
    "plt.ylabel('Count')\n",
    "plt.xlabel('Percentage of missing data')\n",
    "plt.show()"
   ]
  },
  {
   "cell_type": "code",
   "execution_count": 86,
   "metadata": {},
   "outputs": [
    {
     "data": {
      "image/png": "[encoded data removed]",
      "text/plain": [
       "<matplotlib.figure.Figure at 0x7efea2370278>"
      ]
     },
     "metadata": {
      "needs_background": "light"
     },
     "output_type": "display_data"
    }
   ],
   "source": [
    "# Missing data rates for each features\n",
    "\n",
    "plt.figure(figsize=(16,5))\n",
    "missing_percent.plot.bar()\n",
    "plt.ylabel('Missing Percentage')\n",
    "plt.xlabel('Column Name')\n",
    "plt.title('Missing Rates by column name')\n",
    "plt.show()"
   ]
  },
  {
   "cell_type": "code",
   "execution_count": 85,
   "metadata": {},
   "outputs": [
    {
     "data": {
      "text/html": [
       "<div>\n",
       "<style scoped>\n",
       "    .dataframe tbody tr th:only-of-type {\n",
       "        vertical-align: middle;\n",
       "    }\n",
       "\n",
       "    .dataframe tbody tr th {\n",
       "        vertical-align: top;\n",
       "    }\n",
       "\n",
       "    .dataframe thead th {\n",
       "        text-align: right;\n",
       "    }\n",
       "</style>\n",
       "<table border=\"1\" class=\"dataframe\">\n",
       "  <thead>\n",
       "    <tr style=\"text-align: right;\">\n",
       "      <th></th>\n",
       "      <th>percent_null</th>\n",
       "    </tr>\n",
       "  </thead>\n",
       "  <tbody>\n",
       "    <tr>\n",
       "      <th>TITEL_KZ</th>\n",
       "      <td>99.757636</td>\n",
       "    </tr>\n",
       "    <tr>\n",
       "      <th>AGER_TYP</th>\n",
       "      <td>76.955435</td>\n",
       "    </tr>\n",
       "    <tr>\n",
       "      <th>KK_KUNDENTYP</th>\n",
       "      <td>65.596749</td>\n",
       "    </tr>\n",
       "    <tr>\n",
       "      <th>KBA05_BAUMAX</th>\n",
       "      <td>53.468668</td>\n",
       "    </tr>\n",
       "    <tr>\n",
       "      <th>GEBURTSJAHR</th>\n",
       "      <td>44.020282</td>\n",
       "    </tr>\n",
       "    <tr>\n",
       "      <th>ALTER_HH</th>\n",
       "      <td>34.813699</td>\n",
       "    </tr>\n",
       "  </tbody>\n",
       "</table>\n",
       "</div>"
      ],
      "text/plain": [
       "              percent_null\n",
       "TITEL_KZ         99.757636\n",
       "AGER_TYP         76.955435\n",
       "KK_KUNDENTYP     65.596749\n",
       "KBA05_BAUMAX     53.468668\n",
       "GEBURTSJAHR      44.020282\n",
       "ALTER_HH         34.813699"
      ]
     },
     "execution_count": 85,
     "metadata": {},
     "output_type": "execute_result"
    }
   ],
   "source": [
    "# List and describe columns with high percentage of null values\n",
    "\n",
    "threshold = 20\n",
    "outlier_df = pd.DataFrame(missing_percent[missing_percent > threshold], columns=['percent_null'])\n",
    "\n",
    "outlier_df"
   ]
  },
  {
   "cell_type": "code",
   "execution_count": 19,
   "metadata": {},
   "outputs": [],
   "source": [
    "# Remove the outlier columns from the dataset. (You'll perform other data\n",
    "# engineering tasks such as re-encoding and imputation later.)\n",
    "\n",
    "def get_outlier_columns(df, threshold):\n",
    "    \"\"\"\n",
    "    Returns a list of columns that have a percentage of null values\n",
    "    Above threshold\n",
    "    \"\"\"\n",
    "    null_perc = calc_missing_percent(df)\n",
    "    outlier_columns = list(null_perc[null_perc > threshold].index)\n",
    "    \n",
    "    return outlier_columns\n",
    "\n",
    "def get_columns_to_drop(df, null_percentage_threshold=0):\n",
    "    columns_to_drop = []\n",
    "    columns_to_drop = list(set(columns_to_drop)|set(get_outlier_columns(df, null_percentage_threshold)))\n",
    "    \n",
    "    return columns_to_drop"
   ]
  },
  {
   "cell_type": "markdown",
   "metadata": {},
   "source": [
    "#### Discussion 1.1.2: Assess Missing Data in Each Column\n",
    "\n",
    "1. I have removed the columns that have more than 20 percent missing data. These are: 'AGER_TYP', 'GEBURTSJAHR', 'TITEL_KZ', 'ALTER_HH', 'KK_KUNDENTYP', 'KBA05_BAUMAX'.\n",
    "\n",
    "- AGER_TYP seems to be related to the behavior of elderly people so a lot of missing values here is reasonable.\n",
    "- GEBURTSJAHR and ALTER_HH, birthday related columns, some of the people dont share birthdates\n",
    "-  TITEL_KZ is the academic title of the sample, so if you dont have a title it is empty\n",
    "- KK_KUNDENTYPE is the consumer pattern\n",
    "- Similarly, KBA05_BAUMAX, the most common building type within the microcell is missing about half its values.  \n",
    "\n",
    "2. There are some features with same number of percentages of missing data. It is quite possible they refer to similar data. Inspecting more some of them refer to same geographical locations. \n",
    "\n"
   ]
  },
  {
   "cell_type": "markdown",
   "metadata": {},
   "source": [
    "#### Step 1.1.3: Assess Missing Data in Each Row\n",
    "\n",
    "Now, you'll perform a similar assessment for the rows of the dataset. How much data is missing in each row? As with the columns, you should see some groups of points that have a very different numbers of missing values. Divide the data into two subsets: one for data points that are above some threshold for missing values, and a second subset for points below that threshold.\n",
    "\n",
    "In order to know what to do with the outlier rows, we should see if the distribution of data values on columns that are not missing data (or are missing very little data) are similar or different between the two groups. Select at least five of these columns and compare the distribution of values.\n",
    "- You can use seaborn's [`countplot()`](https://seaborn.pydata.org/generated/seaborn.countplot.html) function to create a bar chart of code frequencies and matplotlib's [`subplot()`](https://matplotlib.org/api/_as_gen/matplotlib.pyplot.subplot.html) function to put bar charts for the two subplots side by side.\n",
    "- To reduce repeated code, you might want to write a function that can perform this comparison, taking as one of its arguments a column to be compared.\n",
    "\n",
    "Depending on what you observe in your comparison, this will have implications on how you approach your conclusions later in the analysis. If the distributions of non-missing features look similar between the data with many missing values and the data with few or no missing values, then we could argue that simply dropping those points from the analysis won't present a major issue. On the other hand, if the data with many missing values looks very different from the data with few or no missing values, then we should make a note on those data as special. We'll revisit these data later on. **Either way, you should continue your analysis for now using just the subset of the data with few or no missing values.**"
   ]
  },
  {
   "cell_type": "code",
   "execution_count": 20,
   "metadata": {},
   "outputs": [],
   "source": [
    "# How much data is missing in each row of the dataset?\n",
    "def get_percent_null_per_row(df):\n",
    "    \"\"\"\n",
    "    Returns a series 'percent_null' containing\n",
    "    percentage of columns in row with null values\n",
    "    \"\"\"\n",
    "    percent_null = df.isnull().sum(axis=1)/len(df.columns)*100\n",
    "    \n",
    "    return percent_null"
   ]
  },
  {
   "cell_type": "code",
   "execution_count": 90,
   "metadata": {},
   "outputs": [
    {
     "name": "stdout",
     "output_type": "stream",
     "text": [
      "Percentage of rows with null values: 100.0\n"
     ]
    },
    {
     "data": {
      "image/png": "[encoded data removed]",
      "text/plain": [
       "<matplotlib.figure.Figure at 0x7efea2460198>"
      ]
     },
     "metadata": {
      "needs_background": "light"
     },
     "output_type": "display_data"
    }
   ],
   "source": [
    "\n",
    "azdias_missing['percent_null'] = get_percent_null_per_row(azdias_missing)\n",
    "print('Percentage of rows with null values: {:.1f}'.format((azdias_missing['percent_null'] != 0).mean()*100))\n",
    "plt.hist(azdias_missing['percent_null'])\n",
    "plt.show()"
   ]
  },
  {
   "cell_type": "code",
   "execution_count": 22,
   "metadata": {},
   "outputs": [],
   "source": [
    "# Write code to divide the data into two subsets based on the number of missing\n",
    "# values in each row.\n",
    "\n",
    "def divide_dataframe(df, col_name, threshold):\n",
    "    df_below = df.loc[df[col_name] <= threshold]\n",
    "    df_above = df.loc[df[col_name] > threshold]\n",
    "    \n",
    "    return df_below, df_above\n",
    "\n",
    "\n",
    "gen_below, gen_above = divide_dataframe(azdias_missing, 'percent_null', np.percentile(azdias_missing['percent_null'], 0.99))"
   ]
  },
  {
   "cell_type": "code",
   "execution_count": 93,
   "metadata": {},
   "outputs": [],
   "source": [
    "def get_rows_to_drop(df, null_percentage_threshold=None, null_percentile=None,\n",
    "                    verbose=False):\n",
    "    \"\"\"\n",
    "    returns a list of rows who percentage of null values is unacceptable\n",
    "    Either cuts off rows by a null_percentage threshold (0-100)\n",
    "    Or returns a percentage of the data (0-100)\n",
    "    \"\"\"\n",
    "    percent_null = get_percent_null_per_row(df)\n",
    "    if null_percentage_threshold is not None:\n",
    "        rows_to_drop = (percent_null >= null_percentage_threshold)\n",
    "        null_percentile = (1-rows_to_drop.mean())*100\n",
    "        \n",
    "    elif null_percentile is not None:\n",
    "        null_percentage_threshold = np.percentile(percent_null, null_percentile)\n",
    "        rows_to_drop = (percent_null >= null_percentage_threshold)\n",
    "    \n",
    "    else:\n",
    "        rows_to_drop = (percent_null < 0)\n",
    "        null_percentage_threshold = -1\n",
    "        null_percentile = -1\n",
    "    \n",
    "    if verbose:\n",
    "        print('These rows will be deleted: ')\n",
    "        print(f'Percentile of rows below threshold: {(null_percentile):.1f}')\n",
    "        print(f'Threshold: {(null_percentage_threshold):.1f}')\n",
    "    \n",
    "    return rows_to_drop, null_percentage_threshold, null_percentile"
   ]
  },
  {
   "cell_type": "code",
   "execution_count": 94,
   "metadata": {},
   "outputs": [
    {
     "data": {
      "text/plain": [
       "ZABEOTYP                 0.000000\n",
       "SEMIO_TRADV              0.000000\n",
       "SEMIO_PFLICHT            0.000000\n",
       "SEMIO_KAEM               0.000000\n",
       "SEMIO_DOM                0.000000\n",
       "SEMIO_KRIT               0.000000\n",
       "SEMIO_RAT                0.000000\n",
       "SEMIO_KULT               0.000000\n",
       "SEMIO_ERL                0.000000\n",
       "SEMIO_LUST               0.000000\n",
       "SEMIO_VERT               0.000000\n",
       "SEMIO_MAT                0.000000\n",
       "SEMIO_REL                0.000000\n",
       "SEMIO_FAM                0.000000\n",
       "SEMIO_SOZ                0.000000\n",
       "percent_null             0.000000\n",
       "ANREDE_KZ                0.000000\n",
       "FINANZ_MINIMALIST        0.000000\n",
       "FINANZ_SPARER            0.000000\n",
       "FINANZ_VORSORGER         0.000000\n",
       "FINANZ_ANLEGER           0.000000\n",
       "FINANZ_UNAUFFAELLIGER    0.000000\n",
       "FINANZ_HAUSBAUER         0.000000\n",
       "GREEN_AVANTGARDE         0.000000\n",
       "FINANZTYP                0.000000\n",
       "ALTERSKATEGORIE_GROB     0.003347\n",
       "RETOURTYP_BK_S           0.005640\n",
       "GFK_URLAUBERTYP          0.005640\n",
       "LP_STATUS_GROB           0.005640\n",
       "LP_STATUS_FEIN           0.005640\n",
       "ONLINE_AFFINITAET        0.005640\n",
       "CJT_GESAMTTYP            0.005640\n",
       "HH_EINKOMMEN_SCORE       0.021318\n",
       "SOHO_KZ                  0.085394\n",
       "WOHNDAUER_2008           0.085394\n",
       "ANZ_PERSONEN             0.085394\n",
       "ANZ_TITEL                0.085394\n",
       "KONSUMNAEHE              0.085940\n",
       "LP_FAMILIE_FEIN          0.090382\n",
       "LP_FAMILIE_GROB          0.090382\n",
       "dtype: float64"
      ]
     },
     "execution_count": 94,
     "metadata": {},
     "output_type": "execute_result"
    }
   ],
   "source": [
    "# Compare the distribution of values for at least five columns where there are\n",
    "# no or few missing values, between the two subsets.\n",
    "\n",
    "gen_above.isnull().mean().sort_values(ascending = True)[:40]"
   ]
  },
  {
   "cell_type": "code",
   "execution_count": 24,
   "metadata": {},
   "outputs": [
    {
     "data": {
      "image/png": "[encoded data removed]",
      "text/plain": [
       "<matplotlib.figure.Figure at 0x7efea2370518>"
      ]
     },
     "metadata": {
      "needs_background": "light"
     },
     "output_type": "display_data"
    }
   ],
   "source": [
    "def plot_comparison(df_b, df_a, cols):\n",
    "    n_col = len(cols)\n",
    "    plt.figure(figsize=(15, 5*n_col))\n",
    "    row=0\n",
    "    for col in cols:\n",
    "        plt.subplot(n_col, 2, row+1)\n",
    "        sns.countplot(df_b[col])\n",
    "        if row == 0:\n",
    "            plt.title('Below Threshold')\n",
    "        plt.subplot(n_col, 2, row+2)\n",
    "        sns.countplot(df_a[col])\n",
    "        if row == 0:\n",
    "            plt.title('Above Threshold')\n",
    "        row +=2\n",
    "    plt.show()\n",
    "\n",
    "\n",
    "comparison_cols = ['SEMIO_MAT', 'PRAEGENDE_JUGENDJAHRE','SHOPPER_TYP', 'ANREDE_KZ', 'FINANZTYP']\n",
    "plot_comparison(gen_below, gen_above, comparison_cols)"
   ]
  },
  {
   "cell_type": "markdown",
   "metadata": {},
   "source": [
    "#### Discussion 1.1.3: Assess Missing Data in Each Row\n",
    "\n",
    "For Anrede_kz it is exactly the same pattern for the complete rows and missing rows. This does not useful for investigation.\n",
    "\n",
    "Finanztyp, has a change in data with columns 1 and 3. However, it doesnot add anything so I stoped my investigation.\n",
    "\n",
    "\n"
   ]
  },
  {
   "cell_type": "markdown",
   "metadata": {},
   "source": [
    "### Step 1.2: Fill in Null Values  \n",
    "\n",
    "Some cells already have numerically or character encoded values for values that are missing or unknown.  The approach I will take is to assign any null values to these pre-existing encodings.  Going through the columns in the AZDIAS_Feature_Summary, it seems like it is generally safe to set missing or unknown values to -1 for all features.  However, this may lose information.  It seems like there are categories for missing, unknown, and I don't know why there are null values.  Maybe assign this other type of null value to another value like -2.  This is the simplest."
   ]
  },
  {
   "cell_type": "code",
   "execution_count": 25,
   "metadata": {},
   "outputs": [],
   "source": [
    "# These functions will be used often to get columns of certain data types that are actually\n",
    "# in the dataframe\n",
    "\n",
    "def get_numeric_features(df, feature_df):\n",
    "    ordinal = list(feature_df.loc[feature_df['type'] == 'ordinal']['attribute'])\n",
    "    numeric = list(feature_df.loc[feature_df['type'] == 'numeric']['attribute'])\n",
    "    interval = list(feature_df.loc[feature_df['type'] == 'interval']['attribute'])\n",
    "    numeric_features = list(set(ordinal + numeric + interval).intersection(df.columns))\n",
    "    \n",
    "    return numeric_features\n",
    "\n",
    "def get_object_features(df, feature_df):\n",
    "    object_features = list(df.select_dtypes(include=['object']).columns)\n",
    "            \n",
    "    return object_features\n",
    "\n",
    "def get_categorical_features(df, feature_df):\n",
    "    \"\"\"\n",
    "    Returns categorical features \n",
    "    Excludes objects\n",
    "    All categories are already numerically encoded by design\n",
    "    \"\"\"\n",
    "    # All mixed features\n",
    "    mixed = list(feature_df.loc[feature_df['type'] == 'mixed']['attribute'])\n",
    "    # All categorical features\n",
    "    categorical = list(feature_df.loc[feature_df['type'] == 'categorical']['attribute'])\n",
    "    combined = mixed + categorical\n",
    "    categorical_features = list(set(combined) - set(get_object_features(df, feature_df)))\n",
    "    categorical_features_in_df = list(set(categorical_features).intersection(df.columns))                    \n",
    "    return categorical_features_in_df"
   ]
  },
  {
   "cell_type": "code",
   "execution_count": 26,
   "metadata": {},
   "outputs": [],
   "source": [
    "def clean_nulls(df, feature_df, fill_value=0, verbose=False):\n",
    "    clean_df = df.copy()\n",
    "    numeric = get_numeric_features(df, feature_df)\n",
    "    objects = get_object_features(df, feature_df)\n",
    "    categoric = get_categorical_features(df, feature_df)\n",
    "    \n",
    "    # replace nan with fill value\n",
    "    for col in [numeric, categoric]:\n",
    "        clean_df[col] = clean_df[col].fillna(fill_value)\n",
    "    \n",
    "    clean_df[objects] = clean_df[objects].fillna(str(fill_value))\n",
    "    \n",
    "    # Need to get rid of negative numbers for one hot encoding\n",
    "    clean_df[categoric] = clean_df[categoric].replace(to_replace=-1, value=fill_value)\n",
    "\n",
    "    if verbose:\n",
    "        print(\"Number of Nulls\")\n",
    "        print(\"Before Cleaning: {}\".format(df.isnull().sum().sum()))\n",
    "        print(\"After Cleaning: {}\".format(clean_df.isnull().sum().sum()))\n",
    "        \n",
    "    return clean_df"
   ]
  },
  {
   "cell_type": "markdown",
   "metadata": {},
   "source": [
    "### Step 1.3 Remove Columns \n",
    "This step should be done before encoding the categorical columns so that we don't end up with too many dummy variables?"
   ]
  },
  {
   "cell_type": "code",
   "execution_count": 27,
   "metadata": {},
   "outputs": [],
   "source": [
    " def drop_columns(df, columns_to_drop, verbose = False):\n",
    "    \"\"\"\n",
    "    Removes columns from a dataframe\n",
    "    \"\"\"\n",
    "    columns_removed = []\n",
    "    num_columns_removed = 0\n",
    "    for col in columns_to_drop:\n",
    "        if col in df.columns:\n",
    "            df.drop([col], axis = 1, inplace = True)\n",
    "            num_columns_removed += 1\n",
    "            columns_removed.append(col)\n",
    "    if verbose:\n",
    "        print('{} columns removed from dataframe'.format(num_columns_removed))\n",
    "        print('{}'.format(list(columns_removed)))\n",
    "    return df"
   ]
  },
  {
   "cell_type": "markdown",
   "metadata": {},
   "source": [
    "### Step 1.4: Select and Re-Encode Features\n",
    "\n",
    "Checking for missing data isn't the only way in which you can prepare a dataset for analysis. Since the unsupervised learning techniques to be used will only work on data that is encoded numerically, you need to make a few encoding changes or additional assumptions to be able to make progress. In addition, while almost all of the values in the dataset are encoded using numbers, not all of them represent numeric values. Check the third column of the feature summary (`feat_info`) for a summary of types of measurement.\n",
    "- For numeric and interval data, these features can be kept without changes.\n",
    "- Most of the variables in the dataset are ordinal in nature. While ordinal values may technically be non-linear in spacing, make the simplifying assumption that the ordinal variables can be treated as being interval in nature (that is, kept without any changes).\n",
    "- Special handling may be necessary for the remaining two variable types: categorical, and 'mixed'.\n",
    "\n",
    "In the first two parts of this sub-step, you will perform an investigation of the categorical and mixed-type features and make a decision on each of them, whether you will keep, drop, or re-encode each. Then, in the last part, you will create a new data frame with only the selected and engineered columns.\n",
    "\n",
    "Data wrangling is often the trickiest part of the data analysis process, and there's a lot of it to be done here. But stick with it: once you're done with this step, you'll be ready to get to the machine learning parts of the project!"
   ]
  },
  {
   "cell_type": "code",
   "execution_count": 28,
   "metadata": {},
   "outputs": [
    {
     "data": {
      "text/plain": [
       "ordinal        49\n",
       "categorical    21\n",
       "mixed           7\n",
       "numeric         7\n",
       "interval        1\n",
       "Name: type, dtype: int64"
      ]
     },
     "execution_count": 28,
     "metadata": {},
     "output_type": "execute_result"
    }
   ],
   "source": [
    "# How many features are there of each data type?\n",
    "feat_info['type'].value_counts()"
   ]
  },
  {
   "cell_type": "markdown",
   "metadata": {},
   "source": [
    "#### Step 1.4.1: Re-Encode Categorical Features\n",
    "\n",
    "For categorical data, you would ordinarily need to encode the levels as dummy variables. Depending on the number of categories, perform one of the following:\n",
    "- For binary (two-level) categoricals that take numeric values, you can keep them without needing to do anything.\n",
    "- There is one binary variable that takes on non-numeric values. For this one, you need to re-encode the values as numbers or create a dummy variable.\n",
    "- For multi-level categoricals (three or more values), you can choose to encode the values using multiple dummy variables (e.g. via [OneHotEncoder](http://scikit-learn.org/stable/modules/generated/sklearn.preprocessing.OneHotEncoder.html)), or (to keep things straightforward) just drop them from the analysis. As always, document your choices in the Discussion section."
   ]
  },
  {
   "cell_type": "code",
   "execution_count": 29,
   "metadata": {},
   "outputs": [],
   "source": [
    "def fit_and_encode_objects(df):\n",
    "    '''\n",
    "    Convert string categories into integers\n",
    "    fits and transforms\n",
    "    only use on training set for now\n",
    "    '''\n",
    "    \n",
    "    global le_OST_WEST_KZ\n",
    "    le_OST_WEST_KZ = LabelEncoder()\n",
    "    if 'OST_WEST_KZ' in df.columns:\n",
    "        df['OST_WEST_KZ'] = le_OST_WEST_KZ.fit_transform(df['OST_WEST_KZ'])\n",
    "    \n",
    "    global le_CAMEO_DEUG_2015\n",
    "    le_CAMEO_DEUG_2015 = LabelEncoder()\n",
    "    if 'CAMEO_DEUG_2015' in df.columns:\n",
    "        df['CAMEO_DEUG_2015'] = le_CAMEO_DEUG_2015.fit_transform(df['CAMEO_DEUG_2015'])\n",
    "    \n",
    "    global le_CAMEO_DEU_2015\n",
    "    le_CAMEO_DEU_2015 = LabelEncoder()\n",
    "    if 'CAMEO_DEU_2015' in df.columns:\n",
    "        df['CAMEO_DEU_2015'] = le_CAMEO_DEU_2015.fit_transform(df['CAMEO_DEU_2015'])\n",
    "    \n",
    "    global le_CAMEO_INTL_2015\n",
    "    le_CAMEO_INTL_2015 = LabelEncoder()\n",
    "    if 'CAMEO_INTL_2015' in df.columns:\n",
    "        df['CAMEO_INTL_2015'] = le_CAMEO_INTL_2015.fit_transform(df['CAMEO_INTL_2015'])\n",
    "    return df"
   ]
  },
  {
   "cell_type": "code",
   "execution_count": 30,
   "metadata": {},
   "outputs": [],
   "source": [
    "def encode_objects(df):\n",
    "    '''\n",
    "    Convert string categories into integers\n",
    "    transforms\n",
    "    use on test sets\n",
    "    global encoder variables must be made before using\n",
    "    '''\n",
    "    if 'OST_WEST_KZ' in df.columns:\n",
    "        df['OST_WEST_KZ'] = le_OST_WEST_KZ.transform(df['OST_WEST_KZ'])\n",
    "    \n",
    "    if 'CAMEO_DEUG_2015' in df.columns:\n",
    "        df['CAMEO_DEUG_2015'] = le_CAMEO_DEUG_2015.transform(df['CAMEO_DEUG_2015'])\n",
    "    \n",
    "    if 'CAMEO_DEU_2015' in df.columns:\n",
    "        df['CAMEO_DEU_2015'] = le_CAMEO_DEU_2015.fit_transform(df['CAMEO_DEU_2015'])\n",
    "\n",
    "    if 'CAMEO_INTL_2015' in df.columns:\n",
    "        df['CAMEO_INTL_2015'] = le_CAMEO_INTL_2015.fit_transform(df['CAMEO_INTL_2015'])\n",
    "        \n",
    "    return df"
   ]
  },
  {
   "cell_type": "code",
   "execution_count": 31,
   "metadata": {},
   "outputs": [],
   "source": [
    "def one_hot_encode_categories(df, categories):\n",
    "    \"\"\"\n",
    "    One hot encodes arrays of integers\n",
    "    Returns an array of the encoded features\n",
    "    \"\"\"\n",
    "    global ohe\n",
    "    ohe = OneHotEncoder()\n",
    "    df_ohe = ohe.fit_transform(df[categories])\n",
    "    \n",
    "    return df_ohe"
   ]
  },
  {
   "cell_type": "code",
   "execution_count": 32,
   "metadata": {},
   "outputs": [],
   "source": [
    "def convert_to_dummies(df, categories):\n",
    "    \"\"\"\n",
    "    Makes dummies\n",
    "    Returns a dataframe with nice columns\n",
    "    \"\"\"\n",
    "    dummies = pd.DataFrame()\n",
    "    for cat in categories:\n",
    "        dummy = pd.get_dummies(df[cat], prefix = cat)\n",
    "        dummies = pd.concat([dummies, dummy], axis = 1)\n",
    "    \n",
    "    return dummies\n",
    "\n"
   ]
  },
  {
   "cell_type": "markdown",
   "metadata": {},
   "source": [
    "#### Discussion 1.4.1: Re-Encode Categorical Features\n",
    "\n",
    "None of the features are removed. There were 4 object type features that needs label encoding.  Most of the features, although they were classified as categorical, were encoded into numbers that are correlated nicely with some objective value.  \n",
    "\n",
    "I used pandas get_dummies function to encode categorical values.  \n",
    "\n"
   ]
  },
  {
   "cell_type": "markdown",
   "metadata": {},
   "source": [
    "### Step 1.5: Remove Rows  \n",
    "This step is done after encoding the categorical features so that no encodings are lost."
   ]
  },
  {
   "cell_type": "code",
   "execution_count": 33,
   "metadata": {},
   "outputs": [],
   "source": [
    "def drop_rows(df, rows_to_drop):\n",
    "    \"\"\"\n",
    "    returns a slice of dataframe that excludes rows to drop\n",
    "    Note the ~ TILDE ~\n",
    "    \"\"\"\n",
    "    df = df.loc[~rows_to_drop]\n",
    "\n",
    "    return df"
   ]
  },
  {
   "cell_type": "markdown",
   "metadata": {},
   "source": [
    "### Step 1.6: Engineer Mixed-Type Features\n",
    "\n",
    "There are a handful of features that are marked as \"mixed\" in the feature summary that require special treatment in order to be included in the analysis. There are two in particular that deserve attention; the handling of the rest are up to your own choices:\n",
    "- \"PRAEGENDE_JUGENDJAHRE\" combines information on three dimensions: generation by decade, movement (mainstream vs. avantgarde), and nation (east vs. west). While there aren't enough levels to disentangle east from west, you should create two new variables to capture the other two dimensions: an interval-type variable for decade, and a binary variable for movement.\n",
    "- \"CAMEO_INTL_2015\" combines information on two axes: wealth and life stage. Break up the two-digit codes by their 'tens'-place and 'ones'-place digits into two new ordinal variables (which, for the purposes of this project, is equivalent to just treating them as their raw numeric values).\n",
    "- If you decide to keep or engineer new features around the other mixed-type features, make sure you note your steps in the Discussion section.\n",
    "\n",
    "Be sure to check `Data_Dictionary.md` for the details needed to finish these tasks."
   ]
  },
  {
   "cell_type": "markdown",
   "metadata": {},
   "source": [
    "PRAEGENDE_JUGENDJAHRE\n",
    "Dominating movement of person's youth (avantgarde vs. mainstream; east vs. west)\n",
    "- -1: unknown\n",
    "-  0: unknown\n",
    "-  1: 40s - war years (Mainstream, E+W)\n",
    "-  2: 40s - reconstruction years (Avantgarde, E+W)\n",
    "-  3: 50s - economic miracle (Mainstream, E+W)\n",
    "-  4: 50s - milk bar / Individualisation (Avantgarde, E+W)\n",
    "-  5: 60s - economic miracle (Mainstream, E+W)\n",
    "-  6: 60s - generation 68 / student protestors (Avantgarde, W)\n",
    "-  7: 60s - opponents to the building of the Wall (Avantgarde, E)\n",
    "-  8: 70s - family orientation (Mainstream, E+W)\n",
    "-  9: 70s - peace movement (Avantgarde, E+W)\n",
    "- 10: 80s - Generation Golf (Mainstream, W)\n",
    "- 11: 80s - ecological awareness (Avantgarde, W)\n",
    "- 12: 80s - FDJ / communist party youth organisation (Mainstream, E)\n",
    "- 13: 80s - Swords into ploughshares (Avantgarde, E)\n",
    "- 14: 90s - digital media kids (Mainstream, E+W)\n",
    "- 15: 90s - ecological awareness (Avantgarde, E+W)"
   ]
  },
  {
   "cell_type": "code",
   "execution_count": 35,
   "metadata": {},
   "outputs": [
    {
     "data": {
      "image/png": "[encoded data removed]",
      "text/plain": [
       "<matplotlib.figure.Figure at 0x7efea256a320>"
      ]
     },
     "metadata": {
      "needs_background": "light"
     },
     "output_type": "display_data"
    }
   ],
   "source": [
    "# Investigate \"PRAEGENDE_JUGENDJAHRE\" and engineer two new variables.\n",
    "\n",
    "plt.hist(azdias_copy['PRAEGENDE_JUGENDJAHRE'], bins = list(np.sort(azdias_copy['PRAEGENDE_JUGENDJAHRE'].unique())))\n",
    "plt.show()"
   ]
  },
  {
   "cell_type": "code",
   "execution_count": 36,
   "metadata": {},
   "outputs": [],
   "source": [
    "def engineer_PRAEGENDE_JUGENDJAHRE(df, feature_df):\n",
    "    unknown = [-1, 0]\n",
    "\n",
    "    mainstream = [1,3,5,8,10,12,14]\n",
    "    avantgarde = [2,4,6,7,9,11,13,15]\n",
    "    movements = [unknown, mainstream, avantgarde]\n",
    "    movement_dict = {}\n",
    "\n",
    "    forties = [1,2]\n",
    "    fifties = [3,4]\n",
    "    sixties = [5,6,7]\n",
    "    seventies = [8,9]\n",
    "    eighties = [10,11,12,13]\n",
    "    nineties = [14,15]\n",
    "    decades = [unknown, forties, fifties, sixties, seventies, eighties, nineties]\n",
    "    decade_dict = {}\n",
    "\n",
    "    for dictionary, feature in zip([decade_dict, movement_dict], [decades, movements]):\n",
    "        value = 0\n",
    "        for category in feature:\n",
    "            for key in category:\n",
    "                dictionary[key] = value\n",
    "            value +=1\n",
    "            \n",
    "    df['PRAEGENDE_JUGENDJAHRE_DECADE'] = df['PRAEGENDE_JUGENDJAHRE'].map(decade_dict)\n",
    "    df['PRAEGENDE_JUGENDJAHRE_MOVEMENT'] = df['PRAEGENDE_JUGENDJAHRE'].map(movement_dict)\n",
    "    \n",
    "    decade_row = feature_df.loc[feature_df['attribute'] == 'PRAEGENDE_JUGENDJAHRE'].copy()\n",
    "    decade_row['attribute'] = decade_row['attribute'] + '_DECADE'\n",
    "    decade_row['type'] = 'ordinal'\n",
    "    feature_df = feature_df.append(decade_row, ignore_index=True)\n",
    "\n",
    "    movement_row = feature_df.loc[feature_df['attribute'] == 'PRAEGENDE_JUGENDJAHRE'].copy()\n",
    "    movement_row['attribute'] = movement_row['attribute'] + '_MOVEMENT'\n",
    "    movement_row['type'] = 'categorical'\n",
    "    feature_df = feature_df.append(movement_row, ignore_index=True)\n",
    "    \n",
    "    return df, feature_df"
   ]
  },
  {
   "cell_type": "code",
   "execution_count": 38,
   "metadata": {},
   "outputs": [
    {
     "name": "stdout",
     "output_type": "stream",
     "text": [
      "Index(['AGER_TYP', 'ALTERSKATEGORIE_GROB', 'ANREDE_KZ', 'CJT_GESAMTTYP',\n",
      "       'FINANZ_MINIMALIST', 'FINANZ_SPARER', 'FINANZ_VORSORGER',\n",
      "       'FINANZ_ANLEGER', 'FINANZ_UNAUFFAELLIGER', 'FINANZ_HAUSBAUER',\n",
      "       'FINANZTYP', 'GEBURTSJAHR', 'GFK_URLAUBERTYP', 'GREEN_AVANTGARDE',\n",
      "       'HEALTH_TYP', 'LP_LEBENSPHASE_FEIN', 'LP_LEBENSPHASE_GROB',\n",
      "       'LP_FAMILIE_FEIN', 'LP_FAMILIE_GROB', 'LP_STATUS_FEIN',\n",
      "       'LP_STATUS_GROB', 'NATIONALITAET_KZ', 'PRAEGENDE_JUGENDJAHRE',\n",
      "       'RETOURTYP_BK_S', 'SEMIO_SOZ', 'SEMIO_FAM', 'SEMIO_REL', 'SEMIO_MAT',\n",
      "       'SEMIO_VERT', 'SEMIO_LUST', 'SEMIO_ERL', 'SEMIO_KULT', 'SEMIO_RAT',\n",
      "       'SEMIO_KRIT', 'SEMIO_DOM', 'SEMIO_KAEM', 'SEMIO_PFLICHT', 'SEMIO_TRADV',\n",
      "       'SHOPPER_TYP', 'SOHO_KZ', 'TITEL_KZ', 'VERS_TYP', 'ZABEOTYP',\n",
      "       'ALTER_HH', 'ANZ_PERSONEN', 'ANZ_TITEL', 'HH_EINKOMMEN_SCORE',\n",
      "       'KK_KUNDENTYP', 'W_KEIT_KIND_HH', 'WOHNDAUER_2008',\n",
      "       'ANZ_HAUSHALTE_AKTIV', 'ANZ_HH_TITEL', 'GEBAEUDETYP', 'KONSUMNAEHE',\n",
      "       'MIN_GEBAEUDEJAHR', 'OST_WEST_KZ', 'WOHNLAGE', 'CAMEO_DEUG_2015',\n",
      "       'CAMEO_DEU_2015', 'CAMEO_INTL_2015', 'KBA05_ANTG1', 'KBA05_ANTG2',\n",
      "       'KBA05_ANTG3', 'KBA05_ANTG4', 'KBA05_BAUMAX', 'KBA05_GBZ', 'BALLRAUM',\n",
      "       'EWDICHTE', 'INNENSTADT', 'GEBAEUDETYP_RASTER', 'KKK', 'MOBI_REGIO',\n",
      "       'ONLINE_AFFINITAET', 'REGIOTYP', 'KBA13_ANZAHL_PKW', 'PLZ8_ANTG1',\n",
      "       'PLZ8_ANTG2', 'PLZ8_ANTG3', 'PLZ8_ANTG4', 'PLZ8_BAUMAX', 'PLZ8_HHZ',\n",
      "       'PLZ8_GBZ', 'ARBEIT', 'ORTSGR_KLS9', 'RELAT_AB',\n",
      "       'PRAEGENDE_JUGENDJAHRE_DECADE', 'PRAEGENDE_JUGENDJAHRE_MOVEMENT'],\n",
      "      dtype='object')\n"
     ]
    },
    {
     "data": {
      "text/html": [
       "<div>\n",
       "<style scoped>\n",
       "    .dataframe tbody tr th:only-of-type {\n",
       "        vertical-align: middle;\n",
       "    }\n",
       "\n",
       "    .dataframe tbody tr th {\n",
       "        vertical-align: top;\n",
       "    }\n",
       "\n",
       "    .dataframe thead th {\n",
       "        text-align: right;\n",
       "    }\n",
       "</style>\n",
       "<table border=\"1\" class=\"dataframe\">\n",
       "  <thead>\n",
       "    <tr style=\"text-align: right;\">\n",
       "      <th></th>\n",
       "      <th>attribute</th>\n",
       "      <th>information_level</th>\n",
       "      <th>type</th>\n",
       "      <th>missing_or_unknown</th>\n",
       "      <th>nulls</th>\n",
       "    </tr>\n",
       "  </thead>\n",
       "  <tbody>\n",
       "    <tr>\n",
       "      <th>82</th>\n",
       "      <td>ARBEIT</td>\n",
       "      <td>community</td>\n",
       "      <td>ordinal</td>\n",
       "      <td>[-1,9]</td>\n",
       "      <td>[-1, 9]</td>\n",
       "    </tr>\n",
       "    <tr>\n",
       "      <th>83</th>\n",
       "      <td>ORTSGR_KLS9</td>\n",
       "      <td>community</td>\n",
       "      <td>ordinal</td>\n",
       "      <td>[-1,0]</td>\n",
       "      <td>[-1, 0]</td>\n",
       "    </tr>\n",
       "    <tr>\n",
       "      <th>84</th>\n",
       "      <td>RELAT_AB</td>\n",
       "      <td>community</td>\n",
       "      <td>ordinal</td>\n",
       "      <td>[-1,9]</td>\n",
       "      <td>[-1, 9]</td>\n",
       "    </tr>\n",
       "    <tr>\n",
       "      <th>85</th>\n",
       "      <td>PRAEGENDE_JUGENDJAHRE_DECADE</td>\n",
       "      <td>person</td>\n",
       "      <td>ordinal</td>\n",
       "      <td>[-1,0]</td>\n",
       "      <td>[-1, 0]</td>\n",
       "    </tr>\n",
       "    <tr>\n",
       "      <th>86</th>\n",
       "      <td>PRAEGENDE_JUGENDJAHRE_MOVEMENT</td>\n",
       "      <td>person</td>\n",
       "      <td>categorical</td>\n",
       "      <td>[-1,0]</td>\n",
       "      <td>[-1, 0]</td>\n",
       "    </tr>\n",
       "  </tbody>\n",
       "</table>\n",
       "</div>"
      ],
      "text/plain": [
       "                         attribute information_level         type  \\\n",
       "82                          ARBEIT         community      ordinal   \n",
       "83                     ORTSGR_KLS9         community      ordinal   \n",
       "84                        RELAT_AB         community      ordinal   \n",
       "85    PRAEGENDE_JUGENDJAHRE_DECADE            person      ordinal   \n",
       "86  PRAEGENDE_JUGENDJAHRE_MOVEMENT            person  categorical   \n",
       "\n",
       "   missing_or_unknown    nulls  \n",
       "82             [-1,9]  [-1, 9]  \n",
       "83             [-1,0]  [-1, 0]  \n",
       "84             [-1,9]  [-1, 9]  \n",
       "85             [-1,0]  [-1, 0]  \n",
       "86             [-1,0]  [-1, 0]  "
      ]
     },
     "execution_count": 38,
     "metadata": {},
     "output_type": "execute_result"
    }
   ],
   "source": [
    "# Test engineer_PRAEGENDE_JUGENDJAHRE \n",
    "\n",
    "df = azdias.copy()\n",
    "feature_df = feat_info.copy()\n",
    "df, feature_df = engineer_PRAEGENDE_JUGENDJAHRE(df, feature_df)\n",
    "print(df.columns)\n",
    "feature_df.tail()"
   ]
  },
  {
   "cell_type": "code",
   "execution_count": 39,
   "metadata": {},
   "outputs": [
    {
     "data": {
      "image/png": "[encoded data removed]",
      "text/plain": [
       "<matplotlib.figure.Figure at 0x7efea25d2e48>"
      ]
     },
     "metadata": {
      "needs_background": "light"
     },
     "output_type": "display_data"
    }
   ],
   "source": [
    "\n",
    "plt.hist(df['PRAEGENDE_JUGENDJAHRE_DECADE'], bins = list(np.sort(df['PRAEGENDE_JUGENDJAHRE_DECADE'].unique())))\n",
    "plt.show()"
   ]
  },
  {
   "cell_type": "code",
   "execution_count": 40,
   "metadata": {},
   "outputs": [
    {
     "data": {
      "image/png": "[encoded data removed]",
      "text/plain": [
       "<matplotlib.figure.Figure at 0x7efed432e278>"
      ]
     },
     "metadata": {
      "needs_background": "light"
     },
     "output_type": "display_data"
    }
   ],
   "source": [
    "\n",
    "plt.hist(df['PRAEGENDE_JUGENDJAHRE_MOVEMENT'], bins = list(np.sort(df['PRAEGENDE_JUGENDJAHRE_MOVEMENT'].unique())))\n",
    "plt.show()"
   ]
  },
  {
   "cell_type": "markdown",
   "metadata": {},
   "source": [
    "# Investigate \"CAMEO_INTL_2015\" and engineer two new variables.\n",
    "CAMEO_INTL_2015\n",
    "German CAMEO: Wealth / Life Stage Typology, mapped to international code\n",
    "- -1: unknown\n",
    "- 11: Wealthy Households - Pre-Family Couples & Singles\n",
    "- 12: Wealthy Households - Young Couples With Children\n",
    "- 13: Wealthy Households - Families With School Age Children\n",
    "- 14: Wealthy Households - Older Families &  Mature Couples\n",
    "- 15: Wealthy Households - Elders In Retirement\n",
    "- 21: Prosperous Households - Pre-Family Couples & Singles\n",
    "- 22: Prosperous Households - Young Couples With Children\n",
    "- 23: Prosperous Households - Families With School Age Children\n",
    "- 24: Prosperous Households - Older Families & Mature Couples\n",
    "- 25: Prosperous Households - Elders In Retirement\n",
    "- 31: Comfortable Households - Pre-Family Couples & Singles\n",
    "- 32: Comfortable Households - Young Couples With Children\n",
    "- 33: Comfortable Households - Families With School Age Children\n",
    "- 34: Comfortable Households - Older Families & Mature Couples\n",
    "- 35: Comfortable Households - Elders In Retirement\n",
    "- 41: Less Affluent Households - Pre-Family Couples & Singles\n",
    "- 42: Less Affluent Households - Young Couples With Children\n",
    "- 43: Less Affluent Households - Families With School Age Children\n",
    "- 44: Less Affluent Households - Older Families & Mature Couples\n",
    "- 45: Less Affluent Households - Elders In Retirement\n",
    "- 51: Poorer Households - Pre-Family Couples & Singles\n",
    "- 52: Poorer Households - Young Couples With Children\n",
    "- 53: Poorer Households - Families With School Age Children\n",
    "- 54: Poorer Households - Older Families & Mature Couples\n",
    "- 55: Poorer Households - Elders In Retirement\n",
    "- XX: unknown\n"
   ]
  },
  {
   "cell_type": "code",
   "execution_count": 41,
   "metadata": {},
   "outputs": [],
   "source": [
    "def engineer_CAMEO_INTL_2015(df, feature_df):\n",
    "    unknown = ['-1', 'XX']\n",
    "    \n",
    "    wealthy = [str(i) for i in range(11,16)]\n",
    "    prosperous = [str(i) for i in range(21,26)]\n",
    "    comfortable = [str(i) for i in range(31,36)]\n",
    "    less_affluent = [str(i) for i in range(41,46)]\n",
    "    poorer = [str(i) for i in range(51,56)]\n",
    "    wealth = [unknown, wealthy, prosperous, comfortable, less_affluent, poorer]\n",
    "    wealth_dict = {}\n",
    "    \n",
    "    pre_family = [str(i*10 + 1) for i in range(1,6)]\n",
    "    young_couples = [str(i*10 + 2) for i in range(1,6)]\n",
    "    families = [str(i*10 + 3) for i in range(1,6)]\n",
    "    older_families = [str(i*10 + 4) for i in range(1,6)]\n",
    "    elders = [str(i*10 + 5) for i in range(1,6)]\n",
    "    life_stage = [unknown, pre_family, young_couples, families, older_families, elders]\n",
    "    life_stage_dict = {}\n",
    "\n",
    "    for dictionary, feature in zip([wealth_dict, life_stage_dict], [wealth, life_stage]):\n",
    "        value = 0\n",
    "        for category in feature:\n",
    "            for key in category:\n",
    "                dictionary[key] = value\n",
    "            value +=1\n",
    "            \n",
    "    df['CAMEO_INTL_2015_WEALTH'] = df['CAMEO_INTL_2015'].map(wealth_dict)\n",
    "    df['CAMEO_INTL_2015_LIFE_STAGE'] = df['CAMEO_INTL_2015'].map(life_stage_dict)\n",
    "    \n",
    "    wealth_row = feature_df.loc[feature_df['attribute'] == 'CAMEO_INTL_2015'].copy()\n",
    "    wealth_row['attribute'] = wealth_row['attribute'] + '_WEALTH'\n",
    "    wealth_row['type'] = 'ordinal'\n",
    "    feature_df = feature_df.append(wealth_row, ignore_index=True)\n",
    "\n",
    "    life_stage_row = feature_df.loc[feature_df['attribute'] == 'CAMEO_INTL_2015'].copy()\n",
    "    life_stage_row['attribute'] = life_stage_row['attribute'] + '_LIFE_STAGE'\n",
    "    life_stage_row['type'] = 'ordinal'\n",
    "    feature_df = feature_df.append(life_stage_row, ignore_index=True)\n",
    "    \n",
    "    return df, feature_df"
   ]
  },
  {
   "cell_type": "code",
   "execution_count": 42,
   "metadata": {},
   "outputs": [
    {
     "name": "stdout",
     "output_type": "stream",
     "text": [
      "Index(['AGER_TYP', 'ALTERSKATEGORIE_GROB', 'ANREDE_KZ', 'CJT_GESAMTTYP',\n",
      "       'FINANZ_MINIMALIST', 'FINANZ_SPARER', 'FINANZ_VORSORGER',\n",
      "       'FINANZ_ANLEGER', 'FINANZ_UNAUFFAELLIGER', 'FINANZ_HAUSBAUER',\n",
      "       'FINANZTYP', 'GEBURTSJAHR', 'GFK_URLAUBERTYP', 'GREEN_AVANTGARDE',\n",
      "       'HEALTH_TYP', 'LP_LEBENSPHASE_FEIN', 'LP_LEBENSPHASE_GROB',\n",
      "       'LP_FAMILIE_FEIN', 'LP_FAMILIE_GROB', 'LP_STATUS_FEIN',\n",
      "       'LP_STATUS_GROB', 'NATIONALITAET_KZ', 'PRAEGENDE_JUGENDJAHRE',\n",
      "       'RETOURTYP_BK_S', 'SEMIO_SOZ', 'SEMIO_FAM', 'SEMIO_REL', 'SEMIO_MAT',\n",
      "       'SEMIO_VERT', 'SEMIO_LUST', 'SEMIO_ERL', 'SEMIO_KULT', 'SEMIO_RAT',\n",
      "       'SEMIO_KRIT', 'SEMIO_DOM', 'SEMIO_KAEM', 'SEMIO_PFLICHT', 'SEMIO_TRADV',\n",
      "       'SHOPPER_TYP', 'SOHO_KZ', 'TITEL_KZ', 'VERS_TYP', 'ZABEOTYP',\n",
      "       'ALTER_HH', 'ANZ_PERSONEN', 'ANZ_TITEL', 'HH_EINKOMMEN_SCORE',\n",
      "       'KK_KUNDENTYP', 'W_KEIT_KIND_HH', 'WOHNDAUER_2008',\n",
      "       'ANZ_HAUSHALTE_AKTIV', 'ANZ_HH_TITEL', 'GEBAEUDETYP', 'KONSUMNAEHE',\n",
      "       'MIN_GEBAEUDEJAHR', 'OST_WEST_KZ', 'WOHNLAGE', 'CAMEO_DEUG_2015',\n",
      "       'CAMEO_DEU_2015', 'CAMEO_INTL_2015', 'KBA05_ANTG1', 'KBA05_ANTG2',\n",
      "       'KBA05_ANTG3', 'KBA05_ANTG4', 'KBA05_BAUMAX', 'KBA05_GBZ', 'BALLRAUM',\n",
      "       'EWDICHTE', 'INNENSTADT', 'GEBAEUDETYP_RASTER', 'KKK', 'MOBI_REGIO',\n",
      "       'ONLINE_AFFINITAET', 'REGIOTYP', 'KBA13_ANZAHL_PKW', 'PLZ8_ANTG1',\n",
      "       'PLZ8_ANTG2', 'PLZ8_ANTG3', 'PLZ8_ANTG4', 'PLZ8_BAUMAX', 'PLZ8_HHZ',\n",
      "       'PLZ8_GBZ', 'ARBEIT', 'ORTSGR_KLS9', 'RELAT_AB',\n",
      "       'CAMEO_INTL_2015_WEALTH', 'CAMEO_INTL_2015_LIFE_STAGE'],\n",
      "      dtype='object')\n"
     ]
    },
    {
     "data": {
      "text/html": [
       "<div>\n",
       "<style scoped>\n",
       "    .dataframe tbody tr th:only-of-type {\n",
       "        vertical-align: middle;\n",
       "    }\n",
       "\n",
       "    .dataframe tbody tr th {\n",
       "        vertical-align: top;\n",
       "    }\n",
       "\n",
       "    .dataframe thead th {\n",
       "        text-align: right;\n",
       "    }\n",
       "</style>\n",
       "<table border=\"1\" class=\"dataframe\">\n",
       "  <thead>\n",
       "    <tr style=\"text-align: right;\">\n",
       "      <th></th>\n",
       "      <th>attribute</th>\n",
       "      <th>information_level</th>\n",
       "      <th>type</th>\n",
       "      <th>missing_or_unknown</th>\n",
       "      <th>nulls</th>\n",
       "    </tr>\n",
       "  </thead>\n",
       "  <tbody>\n",
       "    <tr>\n",
       "      <th>82</th>\n",
       "      <td>ARBEIT</td>\n",
       "      <td>community</td>\n",
       "      <td>ordinal</td>\n",
       "      <td>[-1,9]</td>\n",
       "      <td>[-1, 9]</td>\n",
       "    </tr>\n",
       "    <tr>\n",
       "      <th>83</th>\n",
       "      <td>ORTSGR_KLS9</td>\n",
       "      <td>community</td>\n",
       "      <td>ordinal</td>\n",
       "      <td>[-1,0]</td>\n",
       "      <td>[-1, 0]</td>\n",
       "    </tr>\n",
       "    <tr>\n",
       "      <th>84</th>\n",
       "      <td>RELAT_AB</td>\n",
       "      <td>community</td>\n",
       "      <td>ordinal</td>\n",
       "      <td>[-1,9]</td>\n",
       "      <td>[-1, 9]</td>\n",
       "    </tr>\n",
       "    <tr>\n",
       "      <th>85</th>\n",
       "      <td>CAMEO_INTL_2015_WEALTH</td>\n",
       "      <td>microcell_rr4</td>\n",
       "      <td>ordinal</td>\n",
       "      <td>[-1,XX]</td>\n",
       "      <td>[-1, XX]</td>\n",
       "    </tr>\n",
       "    <tr>\n",
       "      <th>86</th>\n",
       "      <td>CAMEO_INTL_2015_LIFE_STAGE</td>\n",
       "      <td>microcell_rr4</td>\n",
       "      <td>ordinal</td>\n",
       "      <td>[-1,XX]</td>\n",
       "      <td>[-1, XX]</td>\n",
       "    </tr>\n",
       "  </tbody>\n",
       "</table>\n",
       "</div>"
      ],
      "text/plain": [
       "                     attribute information_level     type missing_or_unknown  \\\n",
       "82                      ARBEIT         community  ordinal             [-1,9]   \n",
       "83                 ORTSGR_KLS9         community  ordinal             [-1,0]   \n",
       "84                    RELAT_AB         community  ordinal             [-1,9]   \n",
       "85      CAMEO_INTL_2015_WEALTH     microcell_rr4  ordinal            [-1,XX]   \n",
       "86  CAMEO_INTL_2015_LIFE_STAGE     microcell_rr4  ordinal            [-1,XX]   \n",
       "\n",
       "       nulls  \n",
       "82   [-1, 9]  \n",
       "83   [-1, 0]  \n",
       "84   [-1, 9]  \n",
       "85  [-1, XX]  \n",
       "86  [-1, XX]  "
      ]
     },
     "execution_count": 42,
     "metadata": {},
     "output_type": "execute_result"
    }
   ],
   "source": [
    "# Test engineer_CAMEO_INTL_2015\n",
    "\n",
    "df = azdias.copy()\n",
    "feature_df = feat_info.copy()\n",
    "\n",
    "df, feature_df = engineer_CAMEO_INTL_2015(df, feature_df)\n",
    "print(df.columns)\n",
    "feature_df.tail()"
   ]
  },
  {
   "cell_type": "code",
   "execution_count": 43,
   "metadata": {},
   "outputs": [
    {
     "data": {
      "text/plain": [
       "(array([  99352.,  119443.,  190691.,   68193.,  413542.]),\n",
       " array([ 0.,  1.,  2.,  3.,  4.,  5.]),\n",
       " <a list of 5 Patch objects>)"
      ]
     },
     "execution_count": 43,
     "metadata": {},
     "output_type": "execute_result"
    },
    {
     "data": {
      "image/png": "[encoded data removed]",
      "text/plain": [
       "<matplotlib.figure.Figure at 0x7efea2598ef0>"
      ]
     },
     "metadata": {
      "needs_background": "light"
     },
     "output_type": "display_data"
    }
   ],
   "source": [
    "\n",
    "plt.hist(df['CAMEO_INTL_2015_WEALTH'].fillna(0), \n",
    "         bins=np.sort(df['CAMEO_INTL_2015_WEALTH'].fillna(0).unique()))"
   ]
  },
  {
   "cell_type": "code",
   "execution_count": 44,
   "metadata": {},
   "outputs": [
    {
     "data": {
      "text/plain": [
       "(array([  99352.,  245054.,   77300.,  119693.,  349822.]),\n",
       " array([ 0.,  1.,  2.,  3.,  4.,  5.]),\n",
       " <a list of 5 Patch objects>)"
      ]
     },
     "execution_count": 44,
     "metadata": {},
     "output_type": "execute_result"
    },
    {
     "data": {
      "image/png": "[encoded data removed]",
      "text/plain": [
       "<matplotlib.figure.Figure at 0x7efea0850940>"
      ]
     },
     "metadata": {
      "needs_background": "light"
     },
     "output_type": "display_data"
    }
   ],
   "source": [
    "\n",
    "plt.hist(df['CAMEO_INTL_2015_LIFE_STAGE'].fillna(0), \n",
    "         bins=np.sort(df['CAMEO_INTL_2015_LIFE_STAGE'].fillna(0).unique()))"
   ]
  },
  {
   "cell_type": "markdown",
   "metadata": {},
   "source": [
    "#### Discussion 1.6.1: Engineer Mixed-Type Features\n",
    "\n",
    "I engineered the features.  I was instructed to do so. So engineered PRAEGENDE_JUGENDJAHRE and CAMEO_INTL_2015. No extra engineered types are included.\n"
   ]
  },
  {
   "cell_type": "markdown",
   "metadata": {},
   "source": [
    "### Step 1.7: Complete Feature Selection\n",
    "\n",
    "In order to finish this step up, you need to make sure that your data frame now only has the columns that you want to keep. To summarize, the dataframe should consist of the following:\n",
    "- All numeric, interval, and ordinal type columns from the original dataset.\n",
    "- Binary categorical features (all numerically-encoded).\n",
    "- Engineered features from other multi-level categorical features and mixed features.\n",
    "\n",
    "Make sure that for any new columns that you have engineered, that you've excluded the original columns from the final dataset. Otherwise, their values will interfere with the analysis later on the project. For example, you should not keep \"PRAEGENDE_JUGENDJAHRE\", since its values won't be useful for the algorithm: only the values derived from it in the engineered features you created should be retained. As a reminder, your data should only be from **the subset with few or no missing values**."
   ]
  },
  {
   "cell_type": "code",
   "execution_count": null,
   "metadata": {},
   "outputs": [],
   "source": [
    "# If there are other re-engineering tasks you need to perform, make sure you\n",
    "# take care of them here. (Dealing with missing data will come in step 2.1.)\n",
    "\n",
    "def feature_selection(df):\n",
    "    \"\"\"\n",
    "    So far this function doesn't do much\n",
    "    \"\"\"\n",
    "    return df"
   ]
  },
  {
   "cell_type": "code",
   "execution_count": null,
   "metadata": {},
   "outputs": [],
   "source": [
    "# Do whatever you need to in order to ensure that the dataframe only contains\n",
    "# the columns that should be passed to the algorithm functions.\n",
    "\n"
   ]
  },
  {
   "cell_type": "markdown",
   "metadata": {},
   "source": [
    "### Step 1.8: Create a Cleaning Function\n",
    "\n",
    "Even though you've finished cleaning up the general population demographics data, it's important to look ahead to the future and realize that you'll need to perform the same cleaning steps on the customer demographics data. In this substep, complete the function below to execute the main feature selection, encoding, and re-engineering steps you performed above. Then, when it comes to looking at the customer data in Step 3, you can just run this function on that DataFrame to get the trimmed dataset in a single step."
   ]
  },
  {
   "cell_type": "code",
   "execution_count": 45,
   "metadata": {},
   "outputs": [],
   "source": [
    "def clean_data(df, feature_df, \n",
    "               col_null_percentage_threshold=100, columns_to_drop=[],\n",
    "               row_null_percentage_threshold=None, row_null_percentile=None,\n",
    "               use_ohe=False, fit=False, verbose=False):\n",
    "    \"\"\"\n",
    "    Perform feature trimming, re-encoding, and engineering for demographics\n",
    "    data\n",
    "    \n",
    "    INPUT: Demographics DataFrame\n",
    "    OUTPUT: Trimmed and cleaned demographics DataFrame\n",
    "    \"\"\"\n",
    "    \n",
    "    # Engineer Features:\n",
    "    df, feature_df = engineer_PRAEGENDE_JUGENDJAHRE(df, feature_df)\n",
    "    df, feature_df = engineer_CAMEO_INTL_2015(df, feature_df)\n",
    "    \n",
    "    # convert missing value codes into NaNs, ...\n",
    "    df = convert_values_to_nan(df, feature_df)\n",
    "    \n",
    "    # Calculate rows and columns to drop based on null values\n",
    "    if fit:\n",
    "        columns_to_drop = get_columns_to_drop(df, col_null_percentage_threshold)\n",
    "        columns_to_drop += ['PRAEGENDE_JUGENDJAHRE', 'CAMEO_INTL_2015']\n",
    "\n",
    "    rows_to_drop, _, _ = get_rows_to_drop(df, row_null_percentage_threshold,\n",
    "                                          row_null_percentile, verbose=verbose)\n",
    "    \n",
    "    # Cleaning nulls\n",
    "    df = clean_nulls(df, feature_df, fill_value=0, verbose=verbose)\n",
    "    \n",
    "    # remove selected columns and rows, ...\n",
    "    df = drop_columns(df, columns_to_drop, verbose=verbose)\n",
    "    \n",
    "    # select, re-encode, column values.\n",
    "    if fit:\n",
    "        df = fit_and_encode_objects(df)\n",
    "    else:\n",
    "        df = encode_objects(df)\n",
    "    \n",
    "    categoricals = get_categorical_features(df, feature_df)\n",
    "    objects = get_object_features(df, feature_df)\n",
    "    numerics = get_numeric_features(df, feature_df)\n",
    "    categories = categoricals + objects\n",
    "    \n",
    "    if use_ohe:\n",
    "        df_cat = one_hot_encode_categories(df, categories)\n",
    "    else:\n",
    "        df_cat = convert_to_dummies(df, categories)\n",
    "    \n",
    "    df = pd.concat([df[numerics], df_cat], axis=1)\n",
    "    \n",
    "    # Remove selected rows\n",
    "    df = drop_rows(df, rows_to_drop)\n",
    "    # Return the cleaned dataframe.\n",
    "    \n",
    "    if verbose:\n",
    "        print('Shape of cleaned dataframe: {}'.format(df.shape))\n",
    "        print('Number of null values in cleaned dataframe: {}'\n",
    "              .format(df.isnull().sum().sum()))\n",
    "        print('Shape of appended feature summary: {}'.format(feature_df.shape))\n",
    "    \n",
    "    return df, feature_df\n",
    "    "
   ]
  },
  {
   "cell_type": "code",
   "execution_count": 46,
   "metadata": {},
   "outputs": [
    {
     "name": "stdout",
     "output_type": "stream",
     "text": [
      "In rows_to_drop: \n",
      "Percentile of rows below threshold: 88.1\n",
      "Threshold: 20.0\n",
      "Number of Nulls\n",
      "Before Cleaning: 8788215\n",
      "After Cleaning: 0\n",
      "8 columns removed from dataframe\n",
      "['TITEL_KZ', 'GEBURTSJAHR', 'KBA05_BAUMAX', 'ALTER_HH', 'KK_KUNDENTYP', 'AGER_TYP', 'PRAEGENDE_JUGENDJAHRE', 'CAMEO_INTL_2015']\n",
      "Shape of cleaned dataframe: (784776, 279)\n",
      "Number of null values in cleaned dataframe: 0\n",
      "Shape of appended feature summary: (89, 5)\n"
     ]
    }
   ],
   "source": [
    "\n",
    "azdias_clean = azdias.copy()\n",
    "feats_appended = feat_info.copy()\n",
    "\n",
    "azdias_clean, feats_appended = clean_data(azdias_clean, feats_appended, \n",
    "                                         col_null_percentage_threshold=20,\n",
    "                                         row_null_percentage_threshold=20, \n",
    "                                         row_null_percentile=None,\n",
    "                                         use_ohe=False, fit=True, \n",
    "                                         verbose=True)\n"
   ]
  },
  {
   "cell_type": "markdown",
   "metadata": {},
   "source": [
    "## Step 2: Feature Transformation\n",
    "\n",
    "### Step 2.1: Apply Feature Scaling\n",
    "\n",
    "Before we apply dimensionality reduction techniques to the data, we need to perform feature scaling so that the principal component vectors are not influenced by the natural differences in scale for features. Starting from this part of the project, you'll want to keep an eye on the [API reference page for sklearn](http://scikit-learn.org/stable/modules/classes.html) to help you navigate to all of the classes and functions that you'll need. In this substep, you'll need to check the following:\n",
    "\n",
    "- sklearn requires that data not have missing values in order for its estimators to work properly. So, before applying the scaler to your data, make sure that you've cleaned the DataFrame of the remaining missing values. This can be as simple as just removing all data points with missing data, or applying an [Imputer](http://scikit-learn.org/stable/modules/generated/sklearn.preprocessing.Imputer.html) to replace all missing values. You might also try a more complicated procedure where you temporarily remove missing values in order to compute the scaling parameters before re-introducing those missing values and applying imputation. Think about how much missing data you have and what possible effects each approach might have on your analysis, and justify your decision in the discussion section below.\n",
    "- For the actual scaling function, a [StandardScaler](http://scikit-learn.org/stable/modules/generated/sklearn.preprocessing.StandardScaler.html) instance is suggested, scaling each feature to mean 0 and standard deviation 1.\n",
    "- For these classes, you can make use of the `.fit_transform()` method to both fit a procedure to the data as well as apply the transformation to the data at the same time. Don't forget to keep the fit sklearn objects handy, since you'll be applying them to the customer demographics data towards the end of the project."
   ]
  },
  {
   "cell_type": "code",
   "execution_count": null,
   "metadata": {},
   "outputs": [],
   "source": [
    "# If you've not yet cleaned the dataset of all NaN values, then investigate and\n",
    "# do that now.\n",
    "\n"
   ]
  },
  {
   "cell_type": "code",
   "execution_count": 47,
   "metadata": {},
   "outputs": [],
   "source": [
    "# Apply feature scaling to the general population demographics data.\n",
    "\n",
    "scaler = StandardScaler()\n",
    "gen_scaled = scaler.fit_transform(azdias_clean)"
   ]
  },
  {
   "cell_type": "markdown",
   "metadata": {},
   "source": [
    "### Discussion 2.1: Apply Feature Scaling\n",
    "\n",
    "Feature scaling is important. We have so many features which obstruct our understanding of the contribution of each feature. So scaling helps. Standard scaler is used which centers the data around zero. \n",
    "For clustering, it is prefered to use scaling anyway.\n",
    "\n"
   ]
  },
  {
   "cell_type": "markdown",
   "metadata": {},
   "source": [
    "### Step 2.2: Perform Dimensionality Reduction\n",
    "\n",
    "On your scaled data, you are now ready to apply dimensionality reduction techniques.\n",
    "\n",
    "- Use sklearn's [PCA](http://scikit-learn.org/stable/modules/generated/sklearn.decomposition.PCA.html) class to apply principal component analysis on the data, thus finding the vectors of maximal variance in the data. To start, you should not set any parameters (so all components are computed) or set a number of components that is at least half the number of features (so there's enough features to see the general trend in variability).\n",
    "- Check out the ratio of variance explained by each principal component as well as the cumulative variance explained. Try plotting the cumulative or sequential values using matplotlib's [`plot()`](https://matplotlib.org/api/_as_gen/matplotlib.pyplot.plot.html) function. Based on what you find, select a value for the number of transformed features you'll retain for the clustering part of the project.\n",
    "- Once you've made a choice for the number of components to keep, make sure you re-fit a PCA instance to perform the decided-on transformation."
   ]
  },
  {
   "cell_type": "code",
   "execution_count": 53,
   "metadata": {},
   "outputs": [
    {
     "data": {
      "text/plain": [
       "PCA(copy=True, iterated_power='auto', n_components=None, random_state=None,\n",
       "  svd_solver='auto', tol=0.0, whiten=False)"
      ]
     },
     "execution_count": 53,
     "metadata": {},
     "output_type": "execute_result"
    }
   ],
   "source": [
    "# Apply PCA to the data.\n",
    "from sklearn.decomposition import PCA\n",
    "pca = PCA()\n",
    "pca.fit(gen_scaled)\n"
   ]
  },
  {
   "cell_type": "code",
   "execution_count": 54,
   "metadata": {},
   "outputs": [
    {
     "data": {
      "image/png": "[encoded data removed]",
      "text/plain": [
       "<matplotlib.figure.Figure at 0x7efe9b3bed30>"
      ]
     },
     "metadata": {
      "needs_background": "light"
     },
     "output_type": "display_data"
    }
   ],
   "source": [
    "# Investigate the variance accounted for by each principal component.\n",
    "\n",
    "pca_variance = pca.explained_variance_ratio_\n",
    "plt.plot(pca_variance)\n",
    "plt.show()"
   ]
  },
  {
   "cell_type": "code",
   "execution_count": 55,
   "metadata": {},
   "outputs": [
    {
     "data": {
      "image/png": "[encoded data removed]",
      "text/plain": [
       "<matplotlib.figure.Figure at 0x7efea0810390>"
      ]
     },
     "metadata": {
      "needs_background": "light"
     },
     "output_type": "display_data"
    }
   ],
   "source": [
    "\n",
    "plt.plot(pca_variance)\n",
    "plt.xlim(0,50)\n",
    "plt.show()"
   ]
  },
  {
   "cell_type": "code",
   "execution_count": 56,
   "metadata": {},
   "outputs": [
    {
     "name": "stdout",
     "output_type": "stream",
     "text": [
      "The shape of the pca transformed dataset\n",
      "(784776, 15)\n"
     ]
    }
   ],
   "source": [
    "# Re-apply PCA to the data while selecting for number of components to retain.\n",
    "# Transform the data\n",
    "N_COMPONENTS=15\n",
    "\n",
    "\n",
    "pca = PCA(n_components=N_COMPONENTS)\n",
    "gen_pca = pca.fit_transform(gen_scaled)\n",
    "\n",
    "print('The shape of the pca transformed dataset')\n",
    "print(gen_pca.shape)"
   ]
  },
  {
   "cell_type": "markdown",
   "metadata": {},
   "source": [
    "### Discussion 2.2: Perform Dimensionality Reduction\n",
    "\n",
    "Dimensionality reduction is a slow process but it simplies the model to the features that are most important. The PCA reduced 279 features to 15 which is decided from the elbow graph. "
   ]
  },
  {
   "cell_type": "markdown",
   "metadata": {},
   "source": [
    "### Step 2.3: Interpret Principal Components\n",
    "\n",
    "Now that we have our transformed principal components, it's a nice idea to check out the weight of each variable on the first few components to see if they can be interpreted in some fashion.\n",
    "\n",
    "As a reminder, each principal component is a unit vector that points in the direction of highest variance (after accounting for the variance captured by earlier principal components). The further a weight is from zero, the more the principal component is in the direction of the corresponding feature. If two features have large weights of the same sign (both positive or both negative), then increases in one tend expect to be associated with increases in the other. To contrast, features with different signs can be expected to show a negative correlation: increases in one variable should result in a decrease in the other.\n",
    "\n",
    "- To investigate the features, you should map each weight to their corresponding feature name, then sort the features according to weight. The most interesting features for each principal component, then, will be those at the beginning and end of the sorted list. Use the data dictionary document to help you understand these most prominent features, their relationships, and what a positive or negative value on the principal component might indicate.\n",
    "- You should investigate and interpret feature associations from the first three principal components in this substep. To help facilitate this, you should write a function that you can call at any time to print the sorted list of feature weights, for the *i*-th principal component. This might come in handy in the next step of the project, when you interpret the tendencies of the discovered clusters."
   ]
  },
  {
   "cell_type": "code",
   "execution_count": 57,
   "metadata": {},
   "outputs": [],
   "source": [
    "# Map weights for the first principal component to corresponding feature names\n",
    "# and then print the linked values, sorted by weight.\n",
    "# HINT: Try defining a function here or in a new cell that you can reuse in the\n",
    "# other cells.\n",
    "\n",
    "def map_pca_weights(pca, column_index, component, n_weights, plot=False):\n",
    "    \"\"\"\n",
    "    Input: fitted pca, an index of the columns, the pca component, \n",
    "    the number of weights to return, and whether or not to make a bar plot\n",
    "    Returns: a dataframe of weights sorted by absolute value\n",
    "    \"\"\"\n",
    "    component -=1\n",
    "    d = {'weight':pca.components_[component]}\n",
    "    weights =pd.DataFrame(d, index = column_index)\n",
    "    weights = weights.reindex(weights.weight.abs().sort_values(ascending=False).index)\n",
    "    weights = weights.iloc[:n_weights]\n",
    "    if plot:\n",
    "        plt.bar(range(len(weights)), weights['weight'])\n",
    "        plt.xticks(range(len(weights)), list(weights.index), rotation=35, ha='right')\n",
    "        plt.ylabel('weight')\n",
    "        title = 'Weights of principal component: #' + str(component+1)\n",
    "        plt.title(title)\n",
    "        plt.show()\n",
    "    \n",
    "    return weights"
   ]
  },
  {
   "cell_type": "code",
   "execution_count": 59,
   "metadata": {},
   "outputs": [
    {
     "data": {
      "text/html": [
       "<div>\n",
       "<style scoped>\n",
       "    .dataframe tbody tr th:only-of-type {\n",
       "        vertical-align: middle;\n",
       "    }\n",
       "\n",
       "    .dataframe tbody tr th {\n",
       "        vertical-align: top;\n",
       "    }\n",
       "\n",
       "    .dataframe thead th {\n",
       "        text-align: right;\n",
       "    }\n",
       "</style>\n",
       "<table border=\"1\" class=\"dataframe\">\n",
       "  <thead>\n",
       "    <tr style=\"text-align: right;\">\n",
       "      <th></th>\n",
       "      <th>weight</th>\n",
       "    </tr>\n",
       "  </thead>\n",
       "  <tbody>\n",
       "    <tr>\n",
       "      <th>LP_STATUS_GROB_1.0</th>\n",
       "      <td>0.185435</td>\n",
       "    </tr>\n",
       "    <tr>\n",
       "      <th>HH_EINKOMMEN_SCORE</th>\n",
       "      <td>0.177315</td>\n",
       "    </tr>\n",
       "    <tr>\n",
       "      <th>FINANZ_MINIMALIST</th>\n",
       "      <td>-0.177000</td>\n",
       "    </tr>\n",
       "    <tr>\n",
       "      <th>CAMEO_INTL_2015_WEALTH</th>\n",
       "      <td>0.171091</td>\n",
       "    </tr>\n",
       "    <tr>\n",
       "      <th>KBA05_ANTG1</th>\n",
       "      <td>-0.170092</td>\n",
       "    </tr>\n",
       "    <tr>\n",
       "      <th>MOBI_REGIO</th>\n",
       "      <td>-0.167390</td>\n",
       "    </tr>\n",
       "  </tbody>\n",
       "</table>\n",
       "</div>"
      ],
      "text/plain": [
       "                          weight\n",
       "LP_STATUS_GROB_1.0      0.185435\n",
       "HH_EINKOMMEN_SCORE      0.177315\n",
       "FINANZ_MINIMALIST      -0.177000\n",
       "CAMEO_INTL_2015_WEALTH  0.171091\n",
       "KBA05_ANTG1            -0.170092\n",
       "MOBI_REGIO             -0.167390"
      ]
     },
     "execution_count": 59,
     "metadata": {},
     "output_type": "execute_result"
    }
   ],
   "source": [
    "\n",
    "map_pca_weights(pca, azdias_clean.columns, component=1, n_weights=6, plot=False)"
   ]
  },
  {
   "cell_type": "code",
   "execution_count": 60,
   "metadata": {},
   "outputs": [
    {
     "data": {
      "text/html": [
       "<div>\n",
       "<style scoped>\n",
       "    .dataframe tbody tr th:only-of-type {\n",
       "        vertical-align: middle;\n",
       "    }\n",
       "\n",
       "    .dataframe tbody tr th {\n",
       "        vertical-align: top;\n",
       "    }\n",
       "\n",
       "    .dataframe thead th {\n",
       "        text-align: right;\n",
       "    }\n",
       "</style>\n",
       "<table border=\"1\" class=\"dataframe\">\n",
       "  <thead>\n",
       "    <tr style=\"text-align: right;\">\n",
       "      <th></th>\n",
       "      <th>weight</th>\n",
       "    </tr>\n",
       "  </thead>\n",
       "  <tbody>\n",
       "    <tr>\n",
       "      <th>FINANZ_SPARER</th>\n",
       "      <td>-0.220414</td>\n",
       "    </tr>\n",
       "    <tr>\n",
       "      <th>ALTERSKATEGORIE_GROB</th>\n",
       "      <td>0.220046</td>\n",
       "    </tr>\n",
       "    <tr>\n",
       "      <th>FINANZ_VORSORGER</th>\n",
       "      <td>0.212508</td>\n",
       "    </tr>\n",
       "    <tr>\n",
       "      <th>PRAEGENDE_JUGENDJAHRE_DECADE</th>\n",
       "      <td>-0.210449</td>\n",
       "    </tr>\n",
       "    <tr>\n",
       "      <th>FINANZ_UNAUFFAELLIGER</th>\n",
       "      <td>-0.207186</td>\n",
       "    </tr>\n",
       "    <tr>\n",
       "      <th>SEMIO_REL</th>\n",
       "      <td>-0.201909</td>\n",
       "    </tr>\n",
       "  </tbody>\n",
       "</table>\n",
       "</div>"
      ],
      "text/plain": [
       "                                weight\n",
       "FINANZ_SPARER                -0.220414\n",
       "ALTERSKATEGORIE_GROB          0.220046\n",
       "FINANZ_VORSORGER              0.212508\n",
       "PRAEGENDE_JUGENDJAHRE_DECADE -0.210449\n",
       "FINANZ_UNAUFFAELLIGER        -0.207186\n",
       "SEMIO_REL                    -0.201909"
      ]
     },
     "execution_count": 60,
     "metadata": {},
     "output_type": "execute_result"
    }
   ],
   "source": [
    "# Map weights for the second principal component to corresponding feature names\n",
    "# and then print the linked values, sorted by weight.\n",
    "\n",
    "map_pca_weights(pca, azdias_clean.columns, component=2, n_weights=6, plot=False)"
   ]
  },
  {
   "cell_type": "code",
   "execution_count": 61,
   "metadata": {},
   "outputs": [
    {
     "data": {
      "text/html": [
       "<div>\n",
       "<style scoped>\n",
       "    .dataframe tbody tr th:only-of-type {\n",
       "        vertical-align: middle;\n",
       "    }\n",
       "\n",
       "    .dataframe tbody tr th {\n",
       "        vertical-align: top;\n",
       "    }\n",
       "\n",
       "    .dataframe thead th {\n",
       "        text-align: right;\n",
       "    }\n",
       "</style>\n",
       "<table border=\"1\" class=\"dataframe\">\n",
       "  <thead>\n",
       "    <tr style=\"text-align: right;\">\n",
       "      <th></th>\n",
       "      <th>weight</th>\n",
       "    </tr>\n",
       "  </thead>\n",
       "  <tbody>\n",
       "    <tr>\n",
       "      <th>ANREDE_KZ_2.0</th>\n",
       "      <td>-0.293506</td>\n",
       "    </tr>\n",
       "    <tr>\n",
       "      <th>ANREDE_KZ_1.0</th>\n",
       "      <td>0.293506</td>\n",
       "    </tr>\n",
       "    <tr>\n",
       "      <th>SEMIO_VERT</th>\n",
       "      <td>0.271175</td>\n",
       "    </tr>\n",
       "    <tr>\n",
       "      <th>SEMIO_KAEM</th>\n",
       "      <td>-0.255268</td>\n",
       "    </tr>\n",
       "    <tr>\n",
       "      <th>SEMIO_SOZ</th>\n",
       "      <td>0.223134</td>\n",
       "    </tr>\n",
       "    <tr>\n",
       "      <th>SEMIO_KRIT</th>\n",
       "      <td>-0.223059</td>\n",
       "    </tr>\n",
       "  </tbody>\n",
       "</table>\n",
       "</div>"
      ],
      "text/plain": [
       "                 weight\n",
       "ANREDE_KZ_2.0 -0.293506\n",
       "ANREDE_KZ_1.0  0.293506\n",
       "SEMIO_VERT     0.271175\n",
       "SEMIO_KAEM    -0.255268\n",
       "SEMIO_SOZ      0.223134\n",
       "SEMIO_KRIT    -0.223059"
      ]
     },
     "execution_count": 61,
     "metadata": {},
     "output_type": "execute_result"
    }
   ],
   "source": [
    "# Map weights for the third principal component to corresponding feature names\n",
    "# and then print the linked values, sorted by weight.\n",
    "\n",
    "map_pca_weights(pca, azdias_clean.columns, component=3, n_weights=6, plot=False)"
   ]
  },
  {
   "cell_type": "markdown",
   "metadata": {},
   "source": [
    "### Discussion 2.3: Interpret Principal Components\n",
    "\n",
    "- Wealth and the household member number is correlated. Bigger houses means poor households.\n",
    "\n",
    "- Wealth and PLZ_ANTG4 is correlated. When there are more than 10 people in a house, they are poorer.\n",
    "\n",
    "- PZL_ANTG4 and KKK have negative correlation, houses with more than 10 people have higher movement.\n",
    "\n",
    "- PLZ8_ANTG2, PLZ8_ANTG3, PLZ8_ANTG4 have correlation. The numner of houses with more people increase or decrease respectively."
   ]
  },
  {
   "cell_type": "markdown",
   "metadata": {},
   "source": [
    "## Step 3: Clustering\n",
    "\n",
    "### Step 3.1: Apply Clustering to General Population\n",
    "\n",
    "You've assessed and cleaned the demographics data, then scaled and transformed them. Now, it's time to see how the data clusters in the principal components space. In this substep, you will apply k-means clustering to the dataset and use the average within-cluster distances from each point to their assigned cluster's centroid to decide on a number of clusters to keep.\n",
    "\n",
    "- Use sklearn's [KMeans](http://scikit-learn.org/stable/modules/generated/sklearn.cluster.KMeans.html#sklearn.cluster.KMeans) class to perform k-means clustering on the PCA-transformed data.\n",
    "- Then, compute the average difference from each point to its assigned cluster's center. **Hint**: The KMeans object's `.score()` method might be useful here, but note that in sklearn, scores tend to be defined so that larger is better. Try applying it to a small, toy dataset, or use an internet search to help your understanding.\n",
    "- Perform the above two steps for a number of different cluster counts. You can then see how the average distance decreases with an increasing number of clusters. However, each additional cluster provides a smaller net benefit. Use this fact to select a final number of clusters in which to group the data. **Warning**: because of the large size of the dataset, it can take a long time for the algorithm to resolve. The more clusters to fit, the longer the algorithm will take. You should test for cluster counts through at least 10 clusters to get the full picture, but you shouldn't need to test for a number of clusters above about 30.\n",
    "- Once you've selected a final number of clusters to use, re-fit a KMeans instance to perform the clustering operation. Make sure that you also obtain the cluster assignments for the general demographics data, since you'll be using them in the final Step 3.3."
   ]
  },
  {
   "cell_type": "code",
   "execution_count": 62,
   "metadata": {},
   "outputs": [],
   "source": [
    "def get_average_within_cluster_distance(distances, labels):\n",
    "    label_distances = []\n",
    "    for row, label in enumerate(labels):\n",
    "        label_distance = distances[row, label]\n",
    "        label_distances.append(label_distance)\n",
    "    \n",
    "    mean_distance = np.mean(label_distances)\n",
    "\n",
    "    return mean_distance"
   ]
  },
  {
   "cell_type": "code",
   "execution_count": 64,
   "metadata": {},
   "outputs": [
    {
     "name": "stdout",
     "output_type": "stream",
     "text": [
      "Sample Shape: (78477, 15)\n",
      "n_clusters: 1,                   Score: -7082283.1,                   Average within-cluster distance: 9.2\n",
      "n_clusters: 2,                   Score: -6022366.5,                   Average within-cluster distance: 8.4\n",
      "n_clusters: 3,                   Score: -5490064.8,                   Average within-cluster distance: 8.0\n",
      "n_clusters: 4,                   Score: -5092007.6,                   Average within-cluster distance: 7.6\n",
      "n_clusters: 5,                   Score: -4830956.0,                   Average within-cluster distance: 7.4\n",
      "n_clusters: 6,                   Score: -4508761.8,                   Average within-cluster distance: 7.3\n",
      "n_clusters: 7,                   Score: -4314524.7,                   Average within-cluster distance: 7.1\n",
      "n_clusters: 8,                   Score: -4099760.5,                   Average within-cluster distance: 7.0\n",
      "n_clusters: 9,                   Score: -3847162.7,                   Average within-cluster distance: 6.8\n",
      "n_clusters: 10,                   Score: -3681641.9,                   Average within-cluster distance: 6.6\n",
      "n_clusters: 11,                   Score: -3503639.0,                   Average within-cluster distance: 6.5\n",
      "n_clusters: 12,                   Score: -3353791.0,                   Average within-cluster distance: 6.3\n",
      "n_clusters: 13,                   Score: -3184261.4,                   Average within-cluster distance: 6.2\n",
      "n_clusters: 14,                   Score: -3084031.7,                   Average within-cluster distance: 6.0\n",
      "n_clusters: 15,                   Score: -2997325.9,                   Average within-cluster distance: 6.0\n",
      "n_clusters: 16,                   Score: -2915153.2,                   Average within-cluster distance: 5.9\n",
      "n_clusters: 17,                   Score: -2821719.4,                   Average within-cluster distance: 5.8\n",
      "n_clusters: 18,                   Score: -2751696.1,                   Average within-cluster distance: 5.7\n",
      "n_clusters: 19,                   Score: -2699876.3,                   Average within-cluster distance: 5.7\n",
      "n_clusters: 20,                   Score: -2632655.9,                   Average within-cluster distance: 5.6\n",
      "n_clusters: 21,                   Score: -2595499.5,                   Average within-cluster distance: 5.5\n",
      "n_clusters: 22,                   Score: -2536544.5,                   Average within-cluster distance: 5.4\n",
      "n_clusters: 23,                   Score: -2491180.0,                   Average within-cluster distance: 5.4\n",
      "n_clusters: 24,                   Score: -2460091.8,                   Average within-cluster distance: 5.4\n",
      "n_clusters: 25,                   Score: -2414746.5,                   Average within-cluster distance: 5.3\n",
      "n_clusters: 26,                   Score: -2367528.1,                   Average within-cluster distance: 5.3\n",
      "n_clusters: 27,                   Score: -2344415.7,                   Average within-cluster distance: 5.2\n",
      "n_clusters: 28,                   Score: -2322567.2,                   Average within-cluster distance: 5.2\n",
      "n_clusters: 29,                   Score: -2271854.0,                   Average within-cluster distance: 5.1\n",
      "n_clusters: 30,                   Score: -2218580.5,                   Average within-cluster distance: 5.1\n"
     ]
    }
   ],
   "source": [
    "def evaluate_n_clusters(x, cluster_range, verbose=False):\n",
    "    scores = []\n",
    "    average_within_cluster_distances = []\n",
    "    for n_clusters in cluster_range:\n",
    "\n",
    "        km = KMeans(n_clusters=n_clusters, n_jobs=-1, random_state=42)\n",
    "        km.fit_predict(x)\n",
    "        score = km.score(sample)\n",
    "        labels =  km.fit_predict(x)\n",
    "        distances = km.transform(x)\n",
    "        average_within_cluster_distance = get_average_within_cluster_distance(distances, labels)\n",
    "        average_within_cluster_distances.append(average_within_cluster_distance)\n",
    "        scores.append(score)\n",
    "\n",
    "        if verbose:\n",
    "            print(f'n_clusters: {n_clusters}, \\\n",
    "                  Score: {score:.1f}, \\\n",
    "                  Average within-cluster distance: {average_within_cluster_distance:.1f}')\n",
    "        \n",
    "    return scores, average_within_cluster_distances\n",
    "\n",
    "\n",
    "# Get a sample to speed up cluster exploration\n",
    "sample_proportion = 0.1\n",
    "sample = gen_pca[:int(gen_pca.shape[0]*sample_proportion)]\n",
    "print(f'Sample Shape: {sample.shape}')\n",
    "scores, average_within_cluster_distances = evaluate_n_clusters(sample, range(1,31), verbose=True)"
   ]
  },
  {
   "cell_type": "code",
   "execution_count": 65,
   "metadata": {},
   "outputs": [
    {
     "data": {
      "text/plain": [
       "[<matplotlib.lines.Line2D at 0x7efea07564e0>]"
      ]
     },
     "execution_count": 65,
     "metadata": {},
     "output_type": "execute_result"
    },
    {
     "data": {
      "image/png": "[encoded data removed]",
      "text/plain": [
       "<matplotlib.figure.Figure at 0x7efea0800080>"
      ]
     },
     "metadata": {
      "needs_background": "light"
     },
     "output_type": "display_data"
    }
   ],
   "source": [
    "\n",
    "plt.plot(range(1,len(scores)+1), scores)"
   ]
  },
  {
   "cell_type": "code",
   "execution_count": 66,
   "metadata": {},
   "outputs": [
    {
     "data": {
      "text/plain": [
       "[<matplotlib.lines.Line2D at 0x7efea07394a8>]"
      ]
     },
     "execution_count": 66,
     "metadata": {},
     "output_type": "execute_result"
    },
    {
     "data": {
      "image/png": "[encoded data removed]",
      "text/plain": [
       "<matplotlib.figure.Figure at 0x7efea079a390>"
      ]
     },
     "metadata": {
      "needs_background": "light"
     },
     "output_type": "display_data"
    }
   ],
   "source": [
    "\n",
    "plt.plot(range(1,len(average_within_cluster_distances)+1), average_within_cluster_distances)"
   ]
  },
  {
   "cell_type": "code",
   "execution_count": 92,
   "metadata": {},
   "outputs": [
    {
     "data": {
      "image/png": "[encoded data removed]",
      "text/plain": [
       "<matplotlib.figure.Figure at 0x7efea0950518>"
      ]
     },
     "metadata": {
      "needs_background": "light"
     },
     "output_type": "display_data"
    }
   ],
   "source": [
    "plt.figure(figsize=(26, 12))\n",
    "plt.plot(range(1,len(average_within_cluster_distances)+1), average_within_cluster_distances)\n",
    "plt.xlabel('Number of Clusters')\n",
    "plt.ylabel('Score')\n",
    "plt.title('Elbow Curve')\n",
    "plt.show()"
   ]
  },
  {
   "cell_type": "markdown",
   "metadata": {},
   "source": [
    "I didn't get a good elbow on this one.  This is computationally intensive step the more clusters you try to fit.  I picked 20 clusters.  Maybe I calculated the mean average within clusters incorrectly.  Still, it seems to have the same sort gradient as the \"score\" metric which also doesn't have a clear inflection point."
   ]
  },
  {
   "cell_type": "code",
   "execution_count": null,
   "metadata": {},
   "outputs": [],
   "source": [
    "# Over a number of different cluster counts...\n",
    "\n",
    "\n",
    "    # run k-means clustering on the data and...\n",
    "    \n",
    "    \n",
    "    # compute the average within-cluster distances.\n",
    "    \n",
    "    "
   ]
  },
  {
   "cell_type": "code",
   "execution_count": null,
   "metadata": {},
   "outputs": [],
   "source": [
    "# Investigate the change in within-cluster distance across number of clusters.\n",
    "# HINT: Use matplotlib's plot function to visualize this relationship.\n",
    "\n"
   ]
  },
  {
   "cell_type": "code",
   "execution_count": 67,
   "metadata": {},
   "outputs": [],
   "source": [
    "\n",
    "# Re-fit the k-means model with the selected number of clusters and obtain\n",
    "# cluster predictions for the general population demographics data.\n",
    "\n",
    "N_CLUSTERS = 20\n",
    "km = KMeans(n_clusters=N_CLUSTERS, random_state=42)\n",
    "gen_clusters_array = km.fit_predict(gen_pca)\n",
    "gen_clusters = pd.DataFrame(gen_clusters_array, columns=['label'])"
   ]
  },
  {
   "cell_type": "markdown",
   "metadata": {},
   "source": [
    "### Discussion 3.1: Apply Clustering to General Population\n",
    "\n",
    "(Double-click this cell and replace this text with your own text, reporting your findings and decisions regarding clustering. Into how many clusters have you decided to segment the population?)\n",
    "\n",
    "I picked 20 features.\n"
   ]
  },
  {
   "cell_type": "markdown",
   "metadata": {},
   "source": [
    "### Step 3.2: Apply All Steps to the Customer Data\n",
    "\n",
    "Now that you have clusters and cluster centers for the general population, it's time to see how the customer data maps on to those clusters. Take care to not confuse this for re-fitting all of the models to the customer data. Instead, you're going to use the fits from the general population to clean, transform, and cluster the customer data. In the last step of the project, you will interpret how the general population fits apply to the customer data.\n",
    "\n",
    "- Don't forget when loading in the customers data, that it is semicolon (`;`) delimited.\n",
    "- Apply the same feature wrangling, selection, and engineering steps to the customer demographics using the `clean_data()` function you created earlier. (You can assume that the customer demographics data has similar meaning behind missing data patterns as the general demographics data.)\n",
    "- Use the sklearn objects from the general demographics data, and apply their transformations to the customers data. That is, you should not be using a `.fit()` or `.fit_transform()` method to re-fit the old objects, nor should you be creating new sklearn objects! Carry the data through the feature scaling, PCA, and clustering steps, obtaining cluster assignments for all of the data in the customer demographics data."
   ]
  },
  {
   "cell_type": "code",
   "execution_count": 68,
   "metadata": {},
   "outputs": [],
   "source": [
    "# Load in the customer demographics data.\n",
    "\n",
    "customers = pd.read_csv('Udacity_CUSTOMERS_Subset.csv', delimiter=';')"
   ]
  },
  {
   "cell_type": "code",
   "execution_count": 69,
   "metadata": {},
   "outputs": [],
   "source": [
    "def resolve_df_shapes(train, test, null_value = 0):\n",
    "    \"\"\"\n",
    "    https://stackoverflow.com/questions/41335718/keep-same-dummy-variable-in-training-and-testing-data\n",
    "    \"\"\"\n",
    "    # Get missing columns in the training test\n",
    "    missing_cols = set(train.columns) - set(test.columns)\n",
    "    # Add a missing column in test set with default value equal to 0\n",
    "    for c in missing_cols:\n",
    "        test[c] = null_value\n",
    "    # Ensure the order of column in the test set is in the same order than in train set\n",
    "    test = test[train.columns]\n",
    "    \n",
    "    return test"
   ]
  },
  {
   "cell_type": "code",
   "execution_count": 70,
   "metadata": {},
   "outputs": [
    {
     "name": "stdout",
     "output_type": "stream",
     "text": [
      "In rows_to_drop: \n",
      "Percentile of rows below threshold: 73.1\n",
      "Threshold: 20.0\n",
      "Number of Nulls\n",
      "Before Cleaning: 3310748\n",
      "After Cleaning: 0\n",
      "0 columns removed from dataframe\n",
      "[]\n",
      "Shape of cleaned dataframe: (140105, 340)\n",
      "Number of null values in cleaned dataframe: 0\n",
      "Shape of appended feature summary: (89, 5)\n",
      "cust_cleaned shape after shape resolution: (140105, 279)\n"
     ]
    }
   ],
   "source": [
    "# Apply preprocessing, feature transformation, and clustering from the general\n",
    "# demographics onto the customer data, obtaining cluster predictions for the\n",
    "# customer demographics data.\n",
    "\n",
    "\n",
    "cust_cleaned = customers.copy()\n",
    "cust_feats_appended = feat_info.copy()\n",
    "\n",
    "cust_cleaned, appended_cust_feature_df = clean_data(cust_cleaned, cust_feats_appended, \n",
    "                                                    row_null_percentage_threshold=20, \n",
    "                                                    row_null_percentile=None,\n",
    "                                                    use_ohe=False, fit=False, \n",
    "                                                       verbose=True)\n",
    "\n",
    "cust_cleaned = resolve_df_shapes(azdias_clean, cust_cleaned)\n",
    "print(f\"cust_cleaned shape after shape resolution: {cust_cleaned.shape}\")\n",
    "\n",
    "cust_scaled = scaler.transform(cust_cleaned)\n",
    "cust_pca = pca.transform(cust_scaled)\n",
    "cust_clusters_array = km.predict(cust_pca)\n",
    "cust_clusters = pd.DataFrame(cust_clusters_array, columns=['label'])\n"
   ]
  },
  {
   "cell_type": "markdown",
   "metadata": {},
   "source": [
    "### Step 3.3: Compare Customer Data to Demographics Data\n",
    "\n",
    "At this point, you have clustered data based on demographics of the general population of Germany, and seen how the customer data for a mail-order sales company maps onto those demographic clusters. In this final substep, you will compare the two cluster distributions to see where the strongest customer base for the company is.\n",
    "\n",
    "Consider the proportion of persons in each cluster for the general population, and the proportions for the customers. If we think the company's customer base to be universal, then the cluster assignment proportions should be fairly similar between the two. If there are only particular segments of the population that are interested in the company's products, then we should see a mismatch from one to the other. If there is a higher proportion of persons in a cluster for the customer data compared to the general population (e.g. 5% of persons are assigned to a cluster for the general population, but 15% of the customer data is closest to that cluster's centroid) then that suggests the people in that cluster to be a target audience for the company. On the other hand, the proportion of the data in a cluster being larger in the general population than the customer data (e.g. only 2% of customers closest to a population centroid that captures 6% of the data) suggests that group of persons to be outside of the target demographics.\n",
    "\n",
    "Take a look at the following points in this step:\n",
    "\n",
    "- Compute the proportion of data points in each cluster for the general population and the customer data. Visualizations will be useful here: both for the individual dataset proportions, but also to visualize the ratios in cluster representation between groups. Seaborn's [`countplot()`](https://seaborn.pydata.org/generated/seaborn.countplot.html) or [`barplot()`](https://seaborn.pydata.org/generated/seaborn.barplot.html) function could be handy.\n",
    "  - Recall the analysis you performed in step 1.1.3 of the project, where you separated out certain data points from the dataset if they had more than a specified threshold of missing values. If you found that this group was qualitatively different from the main bulk of the data, you should treat this as an additional data cluster in this analysis. Make sure that you account for the number of data points in this subset, for both the general population and customer datasets, when making your computations!\n",
    "- Which cluster or clusters are overrepresented in the customer dataset compared to the general population? Select at least one such cluster and infer what kind of people might be represented by that cluster. Use the principal component interpretations from step 2.3 or look at additional components to help you make this inference. Alternatively, you can use the `.inverse_transform()` method of the PCA and StandardScaler objects to transform centroids back to the original data space and interpret the retrieved values directly.\n",
    "- Perform a similar investigation for the underrepresented clusters. Which cluster or clusters are underrepresented in the customer dataset compared to the general population, and what kinds of people are typified by these clusters?"
   ]
  },
  {
   "cell_type": "code",
   "execution_count": null,
   "metadata": {},
   "outputs": [],
   "source": [
    "# Compare the proportion of data in each cluster for the customer data to the\n",
    "# proportion of data in each cluster for the general population."
   ]
  },
  {
   "cell_type": "code",
   "execution_count": 71,
   "metadata": {},
   "outputs": [],
   "source": [
    "def get_percentage(df, column):\n",
    "    perc = (df[column].value_counts(normalize=True) * 100).sort_index()\n",
    "    df_perc = pd.DataFrame({'label':perc.index, 'percentage':perc.values})\n",
    "    return df_perc\n",
    "\n",
    "\n",
    "gen_clusters_perc = get_percentage(gen_clusters, 'label')\n",
    "cust_clusters_perc = get_percentage(cust_clusters, 'label')"
   ]
  },
  {
   "cell_type": "code",
   "execution_count": 72,
   "metadata": {},
   "outputs": [
    {
     "data": {
      "image/png": "[encoded data removed]",
      "text/plain": [
       "<matplotlib.figure.Figure at 0x7efea06b8438>"
      ]
     },
     "metadata": {
      "needs_background": "light"
     },
     "output_type": "display_data"
    }
   ],
   "source": [
    "sns.barplot(x='label', y='percentage', data=gen_clusters_perc)\n",
    "plt.title('General Demographic')\n",
    "plt.show()"
   ]
  },
  {
   "cell_type": "code",
   "execution_count": 73,
   "metadata": {},
   "outputs": [
    {
     "data": {
      "image/png": "[encoded data removed]",
      "text/plain": [
       "<matplotlib.figure.Figure at 0x7efea07f4a20>"
      ]
     },
     "metadata": {
      "needs_background": "light"
     },
     "output_type": "display_data"
    }
   ],
   "source": [
    "sns.barplot(x='label', y='percentage', data=cust_clusters_perc)\n",
    "plt.title('Customers')\n",
    "plt.show()"
   ]
  },
  {
   "cell_type": "code",
   "execution_count": 74,
   "metadata": {},
   "outputs": [
    {
     "data": {
      "image/png": "[encoded data removed]",
      "text/plain": [
       "<matplotlib.figure.Figure at 0x7efea258b4e0>"
      ]
     },
     "metadata": {
      "needs_background": "light"
     },
     "output_type": "display_data"
    }
   ],
   "source": [
    "cust_clusters_perc['gen_ratio'] = cust_clusters_perc['percentage']/gen_clusters_perc['percentage']\n",
    "sns.barplot(x='label', y='gen_ratio', data=cust_clusters_perc)\n",
    "plt.title('Customers Percentage divided by General Percentage')\n",
    "plt.show()"
   ]
  },
  {
   "cell_type": "code",
   "execution_count": 75,
   "metadata": {},
   "outputs": [
    {
     "name": "stdout",
     "output_type": "stream",
     "text": [
      "Over represented customers are in cluster: 8\n"
     ]
    }
   ],
   "source": [
    "# What kinds of people are part of a cluster that is overrepresented in the\n",
    "# customer data compared to the general population?\n",
    "\n",
    "over_rep = cust_clusters_perc.sort_values(by='gen_ratio').iloc[-1].label\n",
    "print(f'Over represented customers are in cluster: {over_rep:.0f}')\n"
   ]
  },
  {
   "cell_type": "code",
   "execution_count": 76,
   "metadata": {},
   "outputs": [
    {
     "name": "stdout",
     "output_type": "stream",
     "text": [
      "Under represented customers are in cluster: 4\n"
     ]
    }
   ],
   "source": [
    "# What kinds of people are part of a cluster that is underrepresented in the\n",
    "# customer data compared to the general population?\n",
    "\n",
    "under_rep = cust_clusters_perc.sort_values(by='gen_ratio').iloc[0].label\n",
    "print(f'Under represented customers are in cluster: {under_rep:.0f}')\n"
   ]
  },
  {
   "cell_type": "code",
   "execution_count": 77,
   "metadata": {},
   "outputs": [],
   "source": [
    "def get_mean_diff(gen_df, cust_df, clustered, columns, label):\n",
    "    \"\"\"\n",
    "    \n",
    "    \"\"\"\n",
    "    clust_scaled = cust_df[clustered['label']==label]\n",
    "    clust_scaled_mean = clust_scaled.mean(axis=0)\n",
    "    mean_diff= pd.DataFrame(list(zip(columns, clust_scaled_mean - GEN_SCALED_MEAN)), \n",
    "                         columns= ['feature', 'mean_diff'])\n",
    "    mean_diff = mean_diff.sort_values(by='mean_diff')\n",
    "    mean_diff = mean_diff.sort_values(by='mean_diff', ascending=True)\n",
    "    \n",
    "    return mean_diff"
   ]
  },
  {
   "cell_type": "code",
   "execution_count": 78,
   "metadata": {},
   "outputs": [],
   "source": [
    "def get_interesting_features(gen_df, cust_df, clustered, columns, nums, label, n_features):\n",
    "    mean_diff = get_mean_diff(gen_df, cust_df, clustered, columns, label)\n",
    "    num_feats = mean_diff.loc[mean_diff['feature'].isin(nums)].sort_values(by='mean_diff', ascending=True)\n",
    "    num_feats = pd.concat([num_feats[:n_features], num_feats[-n_features:]])\n",
    "    cat_feats = mean_diff.loc[~mean_diff['feature'].isin(nums)].sort_values(by='mean_diff', ascending=True)\n",
    "    cat_feats = pd.concat([cat_feats[:n_features], cat_feats[-n_features:]])\n",
    "    interesting_features = pd.concat([num_feats, cat_feats]).sort_values(by='mean_diff')\n",
    "    \n",
    "    return interesting_features"
   ]
  },
  {
   "cell_type": "code",
   "execution_count": 79,
   "metadata": {},
   "outputs": [],
   "source": [
    "\n",
    "GEN_SCALED_MEAN = gen_scaled.mean(axis=0)\n",
    "numerical_features = get_numeric_features(azdias_clean, feats_appended)"
   ]
  },
  {
   "cell_type": "code",
   "execution_count": 80,
   "metadata": {},
   "outputs": [
    {
     "data": {
      "text/html": [
       "<div>\n",
       "<style scoped>\n",
       "    .dataframe tbody tr th:only-of-type {\n",
       "        vertical-align: middle;\n",
       "    }\n",
       "\n",
       "    .dataframe tbody tr th {\n",
       "        vertical-align: top;\n",
       "    }\n",
       "\n",
       "    .dataframe thead th {\n",
       "        text-align: right;\n",
       "    }\n",
       "</style>\n",
       "<table border=\"1\" class=\"dataframe\">\n",
       "  <thead>\n",
       "    <tr style=\"text-align: right;\">\n",
       "      <th></th>\n",
       "      <th>feature</th>\n",
       "      <th>mean_diff</th>\n",
       "    </tr>\n",
       "  </thead>\n",
       "  <tbody>\n",
       "    <tr>\n",
       "      <th>10</th>\n",
       "      <td>RETOURTYP_BK_S</td>\n",
       "      <td>-2.322904</td>\n",
       "    </tr>\n",
       "    <tr>\n",
       "      <th>36</th>\n",
       "      <td>ONLINE_AFFINITAET</td>\n",
       "      <td>-1.732554</td>\n",
       "    </tr>\n",
       "    <tr>\n",
       "      <th>232</th>\n",
       "      <td>LP_FAMILIE_FEIN_1.0</td>\n",
       "      <td>-1.010738</td>\n",
       "    </tr>\n",
       "    <tr>\n",
       "      <th>77</th>\n",
       "      <td>LP_FAMILIE_GROB_1.0</td>\n",
       "      <td>-1.010738</td>\n",
       "    </tr>\n",
       "    <tr>\n",
       "      <th>42</th>\n",
       "      <td>FINANZ_VORSORGER</td>\n",
       "      <td>0.785895</td>\n",
       "    </tr>\n",
       "    <tr>\n",
       "      <th>46</th>\n",
       "      <td>FINANZ_MINIMALIST</td>\n",
       "      <td>0.832815</td>\n",
       "    </tr>\n",
       "    <tr>\n",
       "      <th>84</th>\n",
       "      <td>GFK_URLAUBERTYP_0.0</td>\n",
       "      <td>13.624583</td>\n",
       "    </tr>\n",
       "    <tr>\n",
       "      <th>146</th>\n",
       "      <td>LP_STATUS_GROB_0.0</td>\n",
       "      <td>13.624583</td>\n",
       "    </tr>\n",
       "  </tbody>\n",
       "</table>\n",
       "</div>"
      ],
      "text/plain": [
       "                 feature  mean_diff\n",
       "10        RETOURTYP_BK_S  -2.322904\n",
       "36     ONLINE_AFFINITAET  -1.732554\n",
       "232  LP_FAMILIE_FEIN_1.0  -1.010738\n",
       "77   LP_FAMILIE_GROB_1.0  -1.010738\n",
       "42      FINANZ_VORSORGER   0.785895\n",
       "46     FINANZ_MINIMALIST   0.832815\n",
       "84   GFK_URLAUBERTYP_0.0  13.624583\n",
       "146   LP_STATUS_GROB_0.0  13.624583"
      ]
     },
     "execution_count": 80,
     "metadata": {},
     "output_type": "execute_result"
    }
   ],
   "source": [
    "over_rep_features = get_interesting_features(gen_scaled, cust_scaled, cust_clusters, \n",
    "                                      columns=cust_cleaned.columns, \n",
    "                                      nums=numerical_features, label=over_rep, n_features=2)\n",
    "over_rep_features"
   ]
  },
  {
   "cell_type": "code",
   "execution_count": 81,
   "metadata": {},
   "outputs": [
    {
     "data": {
      "text/html": [
       "<div>\n",
       "<style scoped>\n",
       "    .dataframe tbody tr th:only-of-type {\n",
       "        vertical-align: middle;\n",
       "    }\n",
       "\n",
       "    .dataframe tbody tr th {\n",
       "        vertical-align: top;\n",
       "    }\n",
       "\n",
       "    .dataframe thead th {\n",
       "        text-align: right;\n",
       "    }\n",
       "</style>\n",
       "<table border=\"1\" class=\"dataframe\">\n",
       "  <thead>\n",
       "    <tr style=\"text-align: right;\">\n",
       "      <th></th>\n",
       "      <th>feature</th>\n",
       "      <th>mean_diff</th>\n",
       "    </tr>\n",
       "  </thead>\n",
       "  <tbody>\n",
       "    <tr>\n",
       "      <th>46</th>\n",
       "      <td>FINANZ_MINIMALIST</td>\n",
       "      <td>-1.262991</td>\n",
       "    </tr>\n",
       "    <tr>\n",
       "      <th>32</th>\n",
       "      <td>SEMIO_VERT</td>\n",
       "      <td>-1.009535</td>\n",
       "    </tr>\n",
       "    <tr>\n",
       "      <th>144</th>\n",
       "      <td>ANREDE_KZ_1.0</td>\n",
       "      <td>-0.958480</td>\n",
       "    </tr>\n",
       "    <tr>\n",
       "      <th>203</th>\n",
       "      <td>PLZ8_BAUMAX_1.0</td>\n",
       "      <td>-0.910580</td>\n",
       "    </tr>\n",
       "    <tr>\n",
       "      <th>25</th>\n",
       "      <td>SEMIO_RAT</td>\n",
       "      <td>1.116081</td>\n",
       "    </tr>\n",
       "    <tr>\n",
       "      <th>12</th>\n",
       "      <td>SEMIO_KAEM</td>\n",
       "      <td>1.160624</td>\n",
       "    </tr>\n",
       "    <tr>\n",
       "      <th>58</th>\n",
       "      <td>FINANZTYP_1.0</td>\n",
       "      <td>1.223382</td>\n",
       "    </tr>\n",
       "    <tr>\n",
       "      <th>255</th>\n",
       "      <td>LP_LEBENSPHASE_GROB_1.0</td>\n",
       "      <td>1.491801</td>\n",
       "    </tr>\n",
       "  </tbody>\n",
       "</table>\n",
       "</div>"
      ],
      "text/plain": [
       "                     feature  mean_diff\n",
       "46         FINANZ_MINIMALIST  -1.262991\n",
       "32                SEMIO_VERT  -1.009535\n",
       "144            ANREDE_KZ_1.0  -0.958480\n",
       "203          PLZ8_BAUMAX_1.0  -0.910580\n",
       "25                 SEMIO_RAT   1.116081\n",
       "12                SEMIO_KAEM   1.160624\n",
       "58             FINANZTYP_1.0   1.223382\n",
       "255  LP_LEBENSPHASE_GROB_1.0   1.491801"
      ]
     },
     "execution_count": 81,
     "metadata": {},
     "output_type": "execute_result"
    }
   ],
   "source": [
    "under_rep_features = get_interesting_features(gen_scaled, cust_scaled, cust_clusters, \n",
    "                                      columns=cust_cleaned.columns, \n",
    "                                      nums=numerical_features, label=under_rep, n_features=2)\n",
    "under_rep_features"
   ]
  },
  {
   "cell_type": "markdown",
   "metadata": {},
   "source": [
    "### Discussion 3.3: Compare Customer Data to Demographics Data\n",
    "\n",
    "\n",
    "Cluster 8 is overrepresented in the customers data compared to general population data. Some characteristics of the group of population that are relative popular with the mail-order company:\n",
    "\n",
    "\n",
    "in areas where the share of 6-10 family homes is lower (PLZ8_ANTG3=2.229)\n",
    "in Prosperous or Comfortable households (WEALTH=4.235)\n",
    "in life stage of Families With School Age Children or Older Families & Mature Couples (LIFE_STAGE=2.968)\n",
    "\n",
    "\n",
    "Cluster 4 is underrepresented in the customers data. Some characteristics of the segment of the population that are relatively unpopular with the company:\n",
    "in areas where the share of 6-10 family homes is higher (PLZ8_ANTG3=1.5507)\n",
    "in Less Affluent or Poorer households (WEALTH=3.183)\n",
    "in life stage of Pre-Family Couples & Singles or Young Couples With Children (LIFE_STAGE=2.9403)¶"
   ]
  },
  {
   "cell_type": "markdown",
   "metadata": {},
   "source": [
    "> Congratulations on making it this far in the project! Before you finish, make sure to check through the entire notebook from top to bottom to make sure that your analysis follows a logical flow and all of your findings are documented in **Discussion** cells. Once you've checked over all of your work, you should export the notebook as an HTML document to submit for evaluation. You can do this from the menu, navigating to **File -> Download as -> HTML (.html)**. You will submit both that document and this notebook for your project submission."
   ]
  },
  {
   "cell_type": "code",
   "execution_count": null,
   "metadata": {},
   "outputs": [],
   "source": []
  }
 ],
 "metadata": {
  "kernelspec": {
   "display_name": "Python 3",
   "language": "python",
   "name": "python3"
  },
  "language_info": {
   "codemirror_mode": {
    "name": "ipython",
    "version": 3
   },
   "file_extension": ".py",
   "mimetype": "text/x-python",
   "name": "python",
   "nbconvert_exporter": "python",
   "pygments_lexer": "ipython3",
   "version": "3.6.3"
  }
 },
 "nbformat": 4,
 "nbformat_minor": 2
}
